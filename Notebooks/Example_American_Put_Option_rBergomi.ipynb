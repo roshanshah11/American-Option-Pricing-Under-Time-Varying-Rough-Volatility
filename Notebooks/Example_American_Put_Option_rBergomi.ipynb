{
 "cells": [
  {
   "cell_type": "markdown",
   "id": "eccc9cab",
   "metadata": {
    "id": "eccc9cab"
   },
   "source": [
    "# Pricing American options in rough Bergomi with linear and deep signatures"
   ]
  },
  {
   "cell_type": "code",
   "execution_count": 3,
   "id": "5c3a68e4",
   "metadata": {},
   "outputs": [
    {
     "name": "stdout",
     "output_type": "stream",
     "text": [
      "TensorFlow version: 2.16.1\n",
      "Using tensorflow.keras imports successfully\n"
     ]
    }
   ],
   "source": [
    "# Ensure correct TensorFlow package on macOS and use tf.keras\n",
    "import tensorflow as tf\n",
    "print('TensorFlow version:', tf.version.VERSION)\n",
    "from tensorflow.keras.callbacks import EarlyStopping\n",
    "from tensorflow.keras import layers, models, regularizers\n",
    "print('Using tensorflow.keras imports successfully')"
   ]
  },
  {
   "cell_type": "code",
   "execution_count": 4,
   "id": "51de0d10",
   "metadata": {},
   "outputs": [
    {
     "name": "stdout",
     "output_type": "stream",
     "text": [
      "2.16.1\n"
     ]
    }
   ],
   "source": [
    "import tensorflow as tf\n",
    "print(tf.__version__)"
   ]
  },
  {
   "cell_type": "code",
   "execution_count": 5,
   "id": "fcc6d208",
   "metadata": {},
   "outputs": [
    {
     "name": "stdout",
     "output_type": "stream",
     "text": [
      "3.0.0\n"
     ]
    }
   ],
   "source": [
    "import keras\n",
    "print(keras.__version__)"
   ]
  },
  {
   "cell_type": "code",
   "execution_count": 6,
   "id": "fecdcfbd",
   "metadata": {},
   "outputs": [
    {
     "name": "stdout",
     "output_type": "stream",
     "text": [
      "1.24.3\n"
     ]
    }
   ],
   "source": [
    "import numpy; \n",
    "print(numpy.__version__)"
   ]
  },
  {
   "cell_type": "code",
   "execution_count": 7,
   "id": "9d139749",
   "metadata": {},
   "outputs": [
    {
     "name": "stdout",
     "output_type": "stream",
     "text": [
      "['ArithmeticError', 'AssertionError', 'AttributeError', 'BaseException', 'BlockingIOError', 'BrokenPipeError', 'BufferError', 'BytesWarning', 'ChildProcessError', 'ConnectionAbortedError', 'ConnectionError', 'ConnectionRefusedError', 'ConnectionResetError', 'DeprecationWarning', 'EOFError', 'Ellipsis', 'EncodingWarning', 'EnvironmentError', 'Exception', 'False', 'FileExistsError', 'FileNotFoundError', 'FloatingPointError', 'FutureWarning', 'GeneratorExit', 'IOError', 'ImportError', 'ImportWarning', 'IndentationError', 'IndexError', 'InterruptedError', 'IsADirectoryError', 'KeyError', 'KeyboardInterrupt', 'LookupError', 'MemoryError', 'ModuleNotFoundError', 'NameError', 'None', 'NotADirectoryError', 'NotImplemented', 'NotImplementedError', 'OSError', 'OverflowError', 'PendingDeprecationWarning', 'PermissionError', 'ProcessLookupError', 'RecursionError', 'ReferenceError', 'ResourceWarning', 'RuntimeError', 'RuntimeWarning', 'StopAsyncIteration', 'StopIteration', 'SyntaxError', 'SyntaxWarning', 'SystemError', 'SystemExit', 'TabError', 'TimeoutError', 'True', 'TypeError', 'UnboundLocalError', 'UnicodeDecodeError', 'UnicodeEncodeError', 'UnicodeError', 'UnicodeTranslateError', 'UnicodeWarning', 'UserWarning', 'ValueError', 'Warning', 'ZeroDivisionError', '__IPYTHON__', '__build_class__', '__debug__', '__doc__', '__import__', '__loader__', '__name__', '__package__', '__pybind11_internals_v4_clang_libcpp_cxxabi1002__', '__spec__', 'abs', 'aiter', 'all', 'anext', 'any', 'ascii', 'bin', 'bool', 'breakpoint', 'bytearray', 'bytes', 'callable', 'chr', 'classmethod', 'compile', 'complex', 'copyright', 'credits', 'delattr', 'dict', 'dir', 'display', 'divmod', 'enumerate', 'eval', 'exec', 'execfile', 'filter', 'float', 'format', 'frozenset', 'get_ipython', 'getattr', 'globals', 'hasattr', 'hash', 'help', 'hex', 'id', 'input', 'int', 'isinstance', 'issubclass', 'iter', 'len', 'license', 'list', 'locals', 'map', 'max', 'memoryview', 'min', 'next', 'object', 'oct', 'open', 'ord', 'pow', 'print', 'property', 'range', 'repr', 'reversed', 'round', 'runfile', 'set', 'setattr', 'slice', 'sorted', 'staticmethod', 'str', 'sum', 'super', 'tuple', 'type', 'vars', 'zip']\n"
     ]
    }
   ],
   "source": [
    "print(dir(__builtins__))"
   ]
  },
  {
   "cell_type": "markdown",
   "id": "c9ckOdm_OAGE",
   "metadata": {
    "id": "c9ckOdm_OAGE"
   },
   "source": [
    "In this notebook we show how to use the code from https://github.com/lucapelizzari/Optimal_Stopping_with_signatures/tree/main, to compute lower and upper bounds for American options in the rough Bergomi model using different signature methods, see for example Section 4.2 of https://arxiv.org/abs/2312.03444 for the linear approach, whereas the deep neural network approaches will be discussed in a forthcoming paper.\n",
    "\n",
    "The repository consists of:\n",
    "\n",
    "*   Simulation packages for fractional Brownian motion, rough Bergomi and rough Heston models\n",
    "*   A modul for signature related computations **Signature_computer.py**, which can compute the signature and log-signature  of various lifts related to volatility modelling, with the additional option of adding polynomials of the state-process and/or volatility.\n",
    "*   The main module for the linear signature approaches **Linear_signature_optimal_stopping.py**, which can be used to derive lower and upper bounds to the optimal stopping problem applying the approaches described in https://arxiv.org/abs/2312.03444\n",
    "*   The main module for deep log-signature approaches **Deep_signature_optimal_stopping.py**, which extends the linear approaches by applying deep neural networks on the log-signature. This code is accompanying a working paper paper on \"American option pricing using signatures\"\n",
    "\n",
    "\n",
    "\n",
    "\n"
   ]
  },
  {
   "cell_type": "code",
   "execution_count": 8,
   "id": "c5c7aa9c",
   "metadata": {},
   "outputs": [],
   "source": [
    "# Fix for TensorFlow import issues and environment compatibility\n",
    "# Set correct Python path to find modules\n",
    "import sys\n",
    "import os\n",
    "\n",
    "# Add the root directory and subdirectories to Python path\n",
    "repo_root = os.path.abspath('..')\n",
    "sys.path.append(repo_root)\n",
    "sys.path.append(os.path.join(repo_root, \"Linear signature optimal stopping\"))\n",
    "sys.path.append(os.path.join(repo_root, \"Non linear signature optimal stopping\"))\n",
    "\n",
    "# Suppress TensorFlow warnings\n",
    "import warnings\n",
    "warnings.filterwarnings('ignore')\n",
    "os.environ['TF_CPP_MIN_LOG_LEVEL'] = '2'"
   ]
  },
  {
   "cell_type": "markdown",
   "id": "57e568a2",
   "metadata": {
    "id": "57e568a2"
   },
   "source": [
    "## American Put options in the rough Bergomi model"
   ]
  },
  {
   "cell_type": "markdown",
   "id": "6572b688",
   "metadata": {
    "id": "6572b688"
   },
   "source": [
    "\n",
    "\n",
    "Recall the price and volatility dynamics of the latter are given by \\begin{align*}\n",
    "dX_t &= rX_tdt+X_tv_t \\left (\\rho dW_r+\\sqrt{1-\\rho^2}dB_t\\right ), \\\\ v_t & =\\xi_0\\mathcal{E}\\left (\\eta \\int_0^t(t-s)^{H-\\frac{1}{2}}dW_s \\right )\n",
    "\\end{align*} and pricing an American Put-option can be formulated as optimal stopping problem $$y_0=\\sup_{\\tau \\in \\mathcal{S}_0}\\mathbb{E}[e^{-r\\tau}\\left (K-X_{\\tau}\\right )^{+}]$$ for some strike $K$. In this notebook we consider the following choice of paramteres $$ H=0.07,X_0 = 100, r=0.05, \\eta = 1.9, \\rho = -0.9, \\xi_0= 0.09, K = 110.$$\n"
   ]
  },
  {
   "cell_type": "markdown",
   "id": "Xlp80cKeRW9z",
   "metadata": {
    "id": "Xlp80cKeRW9z"
   },
   "source": [
    "## Step 1: Simulation rough Bergomi model"
   ]
  },
  {
   "cell_type": "markdown",
   "id": "I7PTV1Z3Rig-",
   "metadata": {
    "id": "I7PTV1Z3Rig-"
   },
   "source": [
    "We start by defining the parameters of the model and importing the rough Berogmi simulation package."
   ]
  },
  {
   "cell_type": "code",
   "execution_count": 9,
   "id": "fd54c84b",
   "metadata": {
    "id": "fd54c84b"
   },
   "outputs": [],
   "source": [
    "\n",
    "N1 = 12 #number of exercise-dates\n",
    "N = 120 #discretization-grid for computing the siganture (that is iterated integrals)\n",
    "T = 1 #Maturity\n",
    "M = 2**15 #number of samples for training\n",
    "M2 = 2**15 #number of samples for testing\n"
   ]
  },
  {
   "cell_type": "markdown",
   "id": "61KWkP-iYnFJ",
   "metadata": {
    "id": "61KWkP-iYnFJ"
   },
   "source": [
    "Note that the number of samples should be much bigger to get reliable results, but to keep the complexity low in this presentation we restrict to $2**15$ training and testing paths here."
   ]
  },
  {
   "cell_type": "code",
   "execution_count": 10,
   "id": "3f46b7ac",
   "metadata": {
    "id": "3f46b7ac"
   },
   "outputs": [],
   "source": [
    "import numpy as np\n",
    "h = 0.07\n",
    "eta = 1.9\n",
    "X0 = 1\n",
    "r = 0.05\n",
    "rho = -0.9\n",
    "xi = 0.09\n",
    "strike = 1.05\n",
    "def phi(x):\n",
    "    return np.maximum(strike-x,0) #payoff function\n"
   ]
  },
  {
   "cell_type": "code",
   "execution_count": 11,
   "id": "7057f779",
   "metadata": {
    "id": "7057f779"
   },
   "outputs": [],
   "source": [
    "# Adjust path to include repository root\n",
    "import sys\n",
    "import os\n",
    "sys.path.append(os.path.abspath('..'))\n",
    "from rBergomi_simulation import SimulationofrBergomi"
   ]
  },
  {
   "cell_type": "markdown",
   "id": "29669ebe",
   "metadata": {
    "id": "29669ebe"
   },
   "source": [
    "Next we define a function generating rough Bergomi prices, volatilies and the corresponding Brownian motion and payoff process. Then we generate training and testing data."
   ]
  },
  {
   "cell_type": "code",
   "execution_count": 12,
   "id": "9cd21314",
   "metadata": {
    "id": "9cd21314"
   },
   "outputs": [],
   "source": [
    "def generate_data(M, N, T, phi, rho, K, X0, H, xi, eta, r):\n",
    "    X, V, I, dI, dW1, dW2, dB, Y = SimulationofrBergomi(M, N, T, phi, rho, K, X0, H, xi, eta, r)\n",
    "\n",
    "    # Calculate Payoff\n",
    "    Payoff = phi(X)\n",
    "\n",
    "    # Stack state and volatility into features for signature\n",
    "    MM = np.stack([X, V], axis=-1)\n",
    "\n",
    "    return X, V, Payoff, dW1, I, MM\n"
   ]
  },
  {
   "cell_type": "code",
   "execution_count": 13,
   "id": "7c86a8cc",
   "metadata": {
    "id": "7c86a8cc"
   },
   "outputs": [],
   "source": [
    "S_training, V_training, Payoff_training, dW_training, I_training, MM_training = generate_data(M, N, T, phi, rho, strike, X0, h, xi, eta, r)\n",
    "S_testing, V_testing, Payoff_testing, dW_testing, I_testing, MM_testing = generate_data(M2, N, T, phi, rho, strike, X0, h, xi, eta, r)"
   ]
  },
  {
   "cell_type": "code",
   "execution_count": 14,
   "id": "68169f97",
   "metadata": {
    "id": "68169f97"
   },
   "outputs": [],
   "source": [
    "#compute the volatility processes\n",
    "vol_training = np.sqrt(V_training)\n",
    "vol_testing = np.sqrt(V_testing)"
   ]
  },
  {
   "cell_type": "markdown",
   "id": "LW4SLN7bQy4R",
   "metadata": {
    "id": "LW4SLN7bQy4R"
   },
   "source": [
    "## Step 2: Signature computations"
   ]
  },
  {
   "cell_type": "markdown",
   "id": "NUEKCKWsRPy4",
   "metadata": {
    "id": "NUEKCKWsRPy4"
   },
   "source": [
    "We will make us uf the iisignature package https://pypi.org/project/iisignature/ to compute the signature, and it can be installed using pip:"
   ]
  },
  {
   "cell_type": "markdown",
   "id": "d14790b8",
   "metadata": {
    "id": "d14790b8"
   },
   "source": [
    "We import our signature computation module, which can compute various signature and log signature lift related to the generated data"
   ]
  },
  {
   "cell_type": "code",
   "execution_count": 15,
   "id": "1fa867a0",
   "metadata": {
    "id": "1fa867a0"
   },
   "outputs": [],
   "source": [
    "from Signature_computer import SignatureComputer"
   ]
  },
  {
   "cell_type": "markdown",
   "id": "fe2eb781",
   "metadata": {
    "id": "fe2eb781"
   },
   "source": [
    "Next we initialize the **SignatureComputer**, which allows to choose from the linear and the log signature, and various choices of signature lifts. Here are some examples $$ t\\mapsto \\mathrm{Sig}(A_t,X_t),t\\mapsto \\mathrm{Sig}(A_t,\\phi(X)_t),t\\mapsto \\mathrm{Sig}(A_t,X_t,X_{t-\\epsilon}),t\\mapsto \\mathrm{Sig}(A_t,X_t,\\phi(X_t)),t\\mapsto \\mathrm{Sig}(A_t,v_t),$$ where $t\\mapsto A_t$ is a monoton path and in our examples we choose between $$A_t=t, \\quad  A_t = \\langle X\\rangle_t.$$ Additonally we can add Laguerre polynomials of $X$ or $(X,v)$ to the signature, see the module for all the details.\n",
    "\n",
    "In this example we choose the basis $(\\mathrm{Sig}(t,v_t),p_i(X_t))$, which proves to be a solid choice for rough volatility models. We choose both the polynomial and signature degree to be $3$ for this example. (To improve result one should higher truncations levels ($4-5$) for the signature, but to keep the complexity reasonable here we choose level $3$ signatures.)"
   ]
  },
  {
   "cell_type": "code",
   "execution_count": 16,
   "id": "8c4a377c",
   "metadata": {
    "id": "8c4a377c"
   },
   "outputs": [],
   "source": [
    "#initialize signature computer\n",
    "sig_computer = SignatureComputer(T, N, 3, \"linear\", signature_lift=\"polynomial-vol\", poly_degree=3)"
   ]
  },
  {
   "cell_type": "code",
   "execution_count": 17,
   "id": "8c365145",
   "metadata": {
    "colab": {
     "base_uri": "https://localhost:8080/"
    },
    "id": "8c365145",
    "outputId": "d26148d9-199d-4ebd-bd3f-60524818666b"
   },
   "outputs": [
    {
     "name": "stdout",
     "output_type": "stream",
     "text": [
      "Computing linear signature with polynomial-vol lift\n",
      "Computing linear signature with polynomial-vol lift\n"
     ]
    }
   ],
   "source": [
    "#Compute the signature for training and test data\n",
    "tt = np.linspace(0,T,N+1)\n",
    "A_training = np.zeros((M, N+1)) #time-augmentation\n",
    "A_testing = np.zeros((M2, N+1))\n",
    "A_training[:, 1:] = A_testing[:, 1:] = tt[1:]\n",
    "signatures_training = sig_computer.compute_signature(\n",
    "    S_training, vol_training, A_training, Payoff_training,\n",
    "    dW_training, I_training, MM_training\n",
    ")\n",
    "signatures_testing = sig_computer.compute_signature(\n",
    "    S_testing, vol_testing, A_testing, Payoff_testing,\n",
    "    dW_testing, I_testing, MM_testing\n",
    ")"
   ]
  },
  {
   "cell_type": "markdown",
   "id": "B0iPgqVDUXyd",
   "metadata": {
    "id": "B0iPgqVDUXyd"
   },
   "source": [
    "Some example of the signature paths"
   ]
  },
  {
   "cell_type": "code",
   "execution_count": 18,
   "id": "qLgGhAQqUa-K",
   "metadata": {
    "colab": {
     "base_uri": "https://localhost:8080/",
     "height": 447
    },
    "id": "qLgGhAQqUa-K",
    "outputId": "e276704a-7235-49f0-98cd-04e9f91b9cdf"
   },
   "outputs": [
    {
     "data": {
      "text/plain": [
       "<matplotlib.legend.Legend at 0x321949ab0>"
      ]
     },
     "execution_count": 18,
     "metadata": {},
     "output_type": "execute_result"
    },
    {
     "data": {
      "image/png": "[encoded data removed]",
      "text/plain": [
       "<Figure size 640x480 with 1 Axes>"
      ]
     },
     "metadata": {},
     "output_type": "display_data"
    }
   ],
   "source": [
    "import matplotlib.pyplot as plt\n",
    "plt.plot(signatures_training[0,:,0],label = 'first level (constant)')\n",
    "plt.plot(signatures_training[0,:,1],label = '1st level: time ')\n",
    "plt.plot(signatures_training[0,:,2],label = '2nd level: $v_t-v_0$')\n",
    "plt.plot(signatures_training[0,:,4],label = '3th level: $\\int sdv_s $')\n",
    "plt.plot(signatures_training[0,:,12],label = '4th level: $\\int \\int udv_u dv_s $')\n",
    "plt.legend(loc='upper right')\n"
   ]
  },
  {
   "cell_type": "markdown",
   "id": "19711264",
   "metadata": {
    "id": "19711264"
   },
   "source": [
    "## Step 3: Compute pricing intervals with linear signatures\n"
   ]
  },
  {
   "cell_type": "markdown",
   "id": "180c7788",
   "metadata": {
    "id": "180c7788"
   },
   "source": [
    "We can now import the linear primal and dual pricers, which compute true lower and upper bounds.\n",
    "- The **LinearLongstaffSchwartzPricer** uses the signature of the training data to recursively approximate continuation values in the spirit of the Longstaff-Schwartz algorithm (descibed in detail in Section 3.1 of https://arxiv.org/abs/2312.03444). The resulting regression coefficients at each exercise date provide a stopping rule, which can be applied to the testing data to get true lower-bounds\n",
    "- The **LinearDualPricer** uses the signature of the training data to minimize over the familiy of linear signature martingales, by solving a corresponding linear program (described in Detail in Section 3.2 of https://arxiv.org/abs/2312.03444). The resulting coefficients yield a Doob martingale approximation, which for the testing data yields a true upper bound.\n",
    "By combining the two values, we receive confidence intervals for the true option price."
   ]
  },
  {
   "cell_type": "markdown",
   "id": "1eTaJQW5V8q6",
   "metadata": {
    "id": "1eTaJQW5V8q6"
   },
   "source": [
    "To solve the linear programm, one can optionally choose to use Gurobi https://www.gurobi.com, which requires a free licence, which is recommended especially for high-dimensional LPs, which occur when choosing large sample-sizes and/or high signature truncations levels. Alternatively, we use the free LP solvers from CVXPY"
   ]
  },
  {
   "cell_type": "code",
   "execution_count": 19,
   "id": "edbc73ec",
   "metadata": {
    "id": "edbc73ec"
   },
   "outputs": [],
   "source": [
    "# ────────────────────────────────────────────────────────────────────────────────\n",
    "# add root of repo and the “Linear signature optimal stopping” folder to PYTHONPATH\n",
    "import sys, os\n",
    "repo_root = os.path.abspath(\"..\")  # /Users/.../Optimal_Stopping_with_signatures\n",
    "ls_folder = os.path.join(repo_root, \"Linear signature optimal stopping\")\n",
    "sys.path.extend([repo_root, ls_folder])\n",
    "\n",
    "# now the module can be imported\n",
    "from Linear_signature_optimal_stopping import LinearLongstaffSchwartzPricer, LinearDualPricer\n",
    "# ────────────────────────────────────────────────────────────────────────────────"
   ]
  },
  {
   "cell_type": "code",
   "execution_count": 20,
   "id": "5a888326",
   "metadata": {
    "id": "5a888326"
   },
   "outputs": [],
   "source": [
    "#initialze the models\n",
    "ls_pricer = LinearLongstaffSchwartzPricer(\n",
    "        N1=N1,\n",
    "        T=T,\n",
    "        r=r,\n",
    "        mode=\"American Option\",\n",
    "        ridge=10**(-9)\n",
    "    )\n",
    "\n",
    "dual_pricer = LinearDualPricer(\n",
    "        N1=N1,\n",
    "        N=N,\n",
    "        T=T,\n",
    "        r=r,\n",
    "        LP_solver=\"CVXPY\"\n",
    "    )"
   ]
  },
  {
   "cell_type": "markdown",
   "id": "28db4f4d",
   "metadata": {
    "id": "28db4f4d"
   },
   "source": [
    "The choice mode=\"American Option\" indicates that the Longstaff-Schwartz recursion will only consider \"in-the-money\" paths, which was originally suggested by Longstaff & Schwartz, and is reasonable for non-negative payoffs. For general payoffs we can use mode = \"Standard\"."
   ]
  },
  {
   "cell_type": "code",
   "execution_count": 21,
   "id": "0889e9a8",
   "metadata": {
    "colab": {
     "base_uri": "https://localhost:8080/"
    },
    "id": "0889e9a8",
    "outputId": "8afb4b10-9708-46a7-f241-da85ac65ee99"
   },
   "outputs": [
    {
     "name": "stdout",
     "output_type": "stream",
     "text": [
      "Regression score at exercise date 11 0.8803960961719335\n",
      "Regression score at exercise date 10 0.8470476470218703\n",
      "Regression score at exercise date 9 0.7991555616795498\n",
      "Regression score at exercise date 8 0.7375950833666127\n",
      "Regression score at exercise date 7 0.6754740723425479\n",
      "Regression score at exercise date 6 0.6191030466102165\n",
      "Regression score at exercise date 5 0.5536417355388584\n",
      "Regression score at exercise date 4 0.46330498936246145\n",
      "Regression score at exercise date 3 0.3769406247835988\n",
      "Regression score at exercise date 2 0.26514745928882033\n",
      "Regression score at exercise date 1 0.1268975936535346\n"
     ]
    }
   ],
   "source": [
    "#compute true lower bounds\n",
    "lower_bound, lower_bound_std, ls_regression_models = ls_pricer.price(\n",
    "        signatures_training,\n",
    "        Payoff_training,\n",
    "        signatures_testing,\n",
    "        Payoff_testing\n",
    "    )"
   ]
  },
  {
   "cell_type": "code",
   "execution_count": 22,
   "id": "e64a34fa",
   "metadata": {
    "colab": {
     "base_uri": "https://localhost:8080/"
    },
    "id": "e64a34fa",
    "outputId": "b116657f-4c30-4379-dbfb-5aa71549133d"
   },
   "outputs": [
    {
     "name": "stdout",
     "output_type": "stream",
     "text": [
      "Linear Longstaff-Schwartz lower bound: 0.1048010322605973 ± 0.0007851833364225249\n"
     ]
    }
   ],
   "source": [
    "print(f\"Linear Longstaff-Schwartz lower bound: {lower_bound} ± {lower_bound_std/np.sqrt(M2)}\")"
   ]
  },
  {
   "cell_type": "markdown",
   "id": "676a51c2",
   "metadata": {
    "id": "676a51c2"
   },
   "source": [
    "Similarly let us derive the upper bounds, but we will train the model only for $M= 5000$ paths to reduce computation time, and then compute true prices for all testing samples."
   ]
  },
  {
   "cell_type": "code",
   "execution_count": 23,
   "id": "08fba8b2",
   "metadata": {
    "colab": {
     "base_uri": "https://localhost:8080/"
    },
    "id": "08fba8b2",
    "outputId": "710b6932-eb7b-4111-c511-20de6dd42eb6",
    "scrolled": true
   },
   "outputs": [
    {
     "name": "stdout",
     "output_type": "stream",
     "text": [
      "3.81 seconds needed to solve the linear program using CVXPY\n"
     ]
    }
   ],
   "source": [
    "M_dual = 5000\n",
    "upper_bound, upper_bound_std, MG = dual_pricer.price(\n",
    "        signatures_training[:M_dual],\n",
    "        Payoff_training[:M_dual],\n",
    "        dW_training[:M_dual,:,0],  # Select only the first component of the Brownian increments\n",
    "        signatures_testing,\n",
    "        Payoff_testing,\n",
    "        dW_testing[:,:,0]  # Select only the first component of the Brownian increments\n",
    "    )"
   ]
  },
  {
   "cell_type": "code",
   "execution_count": 24,
   "id": "39d591c8",
   "metadata": {
    "colab": {
     "base_uri": "https://localhost:8080/"
    },
    "id": "39d591c8",
    "outputId": "e078ca47-ef36-4133-d227-c6d2b88c391d"
   },
   "outputs": [
    {
     "name": "stdout",
     "output_type": "stream",
     "text": [
      "Linear Dual upper bound: 0.13837986282386416 ± 0.0003866864317118976\n",
      "Pricing interval: (0.1048010322605973, 0.13837986282386416)± 0.0007851833364225249 \n"
     ]
    }
   ],
   "source": [
    "print(f\"Linear Dual upper bound: {upper_bound} ± {upper_bound_std/np.sqrt(M2)}\")\n",
    "print(f\"Pricing interval: {(float(lower_bound),float(upper_bound))}± {np.maximum(upper_bound_std,lower_bound_std)/np.sqrt(M2)} \")\n"
   ]
  },
  {
   "cell_type": "markdown",
   "id": "06ab12b0",
   "metadata": {
    "id": "06ab12b0"
   },
   "source": [
    "# Improving the duality gap\n"
   ]
  },
  {
   "cell_type": "markdown",
   "id": "hir98wJJXKE8",
   "metadata": {
    "id": "hir98wJJXKE8"
   },
   "source": [
    "Especially in rough regimes (here $H=0.1$), we observe a significant gap between lower and upper bounds, and in this section we present two ways to improve it. The first one still relies on linear signatures, but extends the basis as explained in in Section 4 of https://arxiv.org/abs/2312.03444."
   ]
  },
  {
   "cell_type": "markdown",
   "id": "4d7ea7df",
   "metadata": {
    "id": "4d7ea7df"
   },
   "source": [
    "## Part 1: Extending the linear basis"
   ]
  },
  {
   "cell_type": "markdown",
   "id": "beffb042",
   "metadata": {
    "id": "beffb042"
   },
   "source": [
    "We consider a more involved basis by choosing the extended signature lift of $(t,X_t,\\phi(X_t))$, and additionally add Laguerre polynomials of $(X_t,v_t)$. We can again use the SignatureComputer to compute this extended basis:"
   ]
  },
  {
   "cell_type": "code",
   "execution_count": 25,
   "id": "1eb54f12",
   "metadata": {
    "id": "1eb54f12"
   },
   "outputs": [],
   "source": [
    "sig_computer_extended = SignatureComputer(T, N, 3, \"linear\", signature_lift=\"payoff-and-polynomial-extended\", poly_degree=3)"
   ]
  },
  {
   "cell_type": "code",
   "execution_count": 26,
   "id": "33d6249a",
   "metadata": {
    "colab": {
     "base_uri": "https://localhost:8080/"
    },
    "id": "33d6249a",
    "outputId": "53179ca8-2f48-4b44-b1eb-99f3548c0900"
   },
   "outputs": [
    {
     "name": "stdout",
     "output_type": "stream",
     "text": [
      "Computing linear signature with payoff-and-polynomial-extended lift\n",
      "Computing linear signature with payoff-and-polynomial-extended lift\n"
     ]
    }
   ],
   "source": [
    "signatures_extended_training = sig_computer_extended.compute_signature(\n",
    "    S_training, vol_training, A_training, Payoff_training,\n",
    "    dW_training, I_training, MM_training\n",
    ")\n",
    "signatures_extended_testing = sig_computer_extended.compute_signature(\n",
    "    S_testing, vol_testing, A_testing, Payoff_testing,\n",
    "    dW_testing, I_testing, MM_testing\n",
    ")"
   ]
  },
  {
   "cell_type": "markdown",
   "id": "5zFWMoC-X-kM",
   "metadata": {
    "id": "5zFWMoC-X-kM"
   },
   "source": [
    "Now we repeat the procedure for the extended basis:"
   ]
  },
  {
   "cell_type": "code",
   "execution_count": 27,
   "id": "1c2d3960",
   "metadata": {
    "colab": {
     "base_uri": "https://localhost:8080/"
    },
    "collapsed": true,
    "id": "1c2d3960",
    "outputId": "009708e1-bce5-42b9-861f-3f437c5136e6"
   },
   "outputs": [
    {
     "name": "stdout",
     "output_type": "stream",
     "text": [
      "Regression score at exercise date 11 0.8806171444719535\n",
      "Regression score at exercise date 10 0.8499902517696064\n",
      "Regression score at exercise date 9 0.807016055853857\n",
      "Regression score at exercise date 8 0.7551248062184361\n",
      "Regression score at exercise date 7 0.7015518596591246\n",
      "Regression score at exercise date 6 0.6438772140378504\n",
      "Regression score at exercise date 5 0.577947622195158\n",
      "Regression score at exercise date 4 0.49128596562171856\n",
      "Regression score at exercise date 3 0.39422784938488\n",
      "Regression score at exercise date 2 0.27666851030736206\n",
      "Regression score at exercise date 1 0.13280354401983796\n",
      "14.67 seconds needed to solve the linear program using CVXPY\n"
     ]
    }
   ],
   "source": [
    "\n",
    "#compute true lower bounds for the new basis\n",
    "lower_bound_extended, lower_bound_extended_std, ls_regression_models_extended = ls_pricer.price(\n",
    "        signatures_extended_training,\n",
    "        Payoff_training,\n",
    "        signatures_extended_testing,\n",
    "        Payoff_testing\n",
    "    )\n",
    "#Repeating the dual procedure for the new basis\n",
    "upper_bound_extended, upper_bound_extended_std, MG_extended = dual_pricer.price(\n",
    "        signatures_extended_training[:M_dual,:,:],\n",
    "        Payoff_training[:M_dual,:],\n",
    "        dW_training[:M_dual,:,0],  # select first component of Brownian increments\n",
    "        signatures_extended_testing,\n",
    "        Payoff_testing,\n",
    "        dW_testing[:,:,0]  # select first component of Brownian increments\n",
    "    )"
   ]
  },
  {
   "cell_type": "code",
   "execution_count": 28,
   "id": "692d7161",
   "metadata": {
    "colab": {
     "base_uri": "https://localhost:8080/"
    },
    "id": "692d7161",
    "outputId": "5811cd15-9104-4ec6-fb2a-31da9a47991c"
   },
   "outputs": [
    {
     "name": "stdout",
     "output_type": "stream",
     "text": [
      "Improve pricing interval: (0.10539341778740352, 0.13368699790810445)± 0.0007851833364225249 \n"
     ]
    }
   ],
   "source": [
    "print(f\"Improve pricing interval: {(float(lower_bound_extended),float(upper_bound_extended))}± {np.maximum(upper_bound_std,lower_bound_std)/np.sqrt(M2)} \")"
   ]
  },
  {
   "cell_type": "markdown",
   "id": "17b5c7df",
   "metadata": {
    "id": "17b5c7df"
   },
   "source": [
    "## Part 2: Deep log-signature optimal stopping"
   ]
  },
  {
   "cell_type": "markdown",
   "id": "b7e5f596",
   "metadata": {
    "id": "b7e5f596"
   },
   "source": [
    " In forthcoming work about \"American options in rough volatility models\", we will focus on more non-linear apporaches to price American options. More precisely, we extend the primal and dual procecdure by replacing linear functionals of the signature by deep neural networks on the log-signature $\\mathbb{L}=\\mathrm{log}^\\otimes(\\mathbb{X})$. This transformed version of the signature still captures the relevant information about the past of the underlying process, but grows much slower as the signature it self with respect to the truncation. Then, in order to learn highly non-linear functionals, such as the integrand of the Doob martingale (\"derivative of the Snell-envelope\"), we apply deep feedforward neural networks $\\theta$ on the log-signature. Of course, in both methods a optimization of the hyperparameters is required."
   ]
  },
  {
   "cell_type": "markdown",
   "id": "kTyO0IKtbYse",
   "metadata": {
    "id": "kTyO0IKtbYse"
   },
   "source": [
    "We proceed as before, but replace the linear signature by the log-signature"
   ]
  },
  {
   "cell_type": "code",
   "execution_count": 29,
   "id": "54699ea8",
   "metadata": {
    "id": "54699ea8"
   },
   "outputs": [],
   "source": [
    "sig_computer_log = SignatureComputer(T, N, 3, \"log\", signature_lift=\"polynomial-vol\", poly_degree=3)"
   ]
  },
  {
   "cell_type": "code",
   "execution_count": 30,
   "id": "e998aed9",
   "metadata": {
    "colab": {
     "base_uri": "https://localhost:8080/"
    },
    "id": "e998aed9",
    "outputId": "195d4128-74a3-4f42-a198-6310039f6c19"
   },
   "outputs": [
    {
     "name": "stdout",
     "output_type": "stream",
     "text": [
      "Computing log signature with polynomial-vol lift\n",
      "Computing log signature with polynomial-vol lift\n"
     ]
    }
   ],
   "source": [
    "log_signatures_training = sig_computer_log.compute_signature(\n",
    "    S_training, vol_training, A_training, Payoff_training,\n",
    "    dW_training[:,:,0], I_training, MM_training  # use first component\n",
    ")\n",
    "log_signatures_testing = sig_computer_log.compute_signature(\n",
    "    S_testing, vol_testing, A_testing, Payoff_testing,\n",
    "    dW_testing[:,:,0], I_testing, MM_testing  # use first component and correct I_testing\n",
    ")"
   ]
  },
  {
   "cell_type": "code",
   "execution_count": 31,
   "id": "bc7ff201",
   "metadata": {
    "id": "bc7ff201"
   },
   "outputs": [],
   "source": [
    "repo_root = os.path.abspath(\"..\")  # /Users/.../Optimal_Stopping_with_signatures\n",
    "ls_folder = os.path.join(repo_root, \"Non linear signature optimal stopping\")\n",
    "sys.path.extend([repo_root, ls_folder])\n",
    "from Deep_signatures_optimal_stopping import DeepLongstaffSchwartzPricer, DeepDualPricer"
   ]
  },
  {
   "cell_type": "code",
   "execution_count": 32,
   "id": "747bdf8e",
   "metadata": {},
   "outputs": [
    {
     "name": "stdout",
     "output_type": "stream",
     "text": [
      "Computing log signature with polynomial-vol lift\n",
      "Computing log signature with polynomial-vol lift\n"
     ]
    }
   ],
   "source": [
    "log_signatures_training = sig_computer_log.compute_signature(\n",
    "    S_training, vol_training, A_training, Payoff_training,\n",
    "    dW_training[:,:,0], I_training, MM_training  # use first component\n",
    ")\n",
    "log_signatures_testing = sig_computer_log.compute_signature(\n",
    "    S_testing, vol_testing, A_testing, Payoff_testing,\n",
    "    dW_testing[:,:,0], I_testing, MM_testing  # use first component and correct I_testing\n",
    ")"
   ]
  },
  {
   "cell_type": "markdown",
   "id": "9a1d0eff",
   "metadata": {
    "id": "9a1d0eff"
   },
   "source": [
    "The DeepLongstaffSchwartzPricer generalizes the LinearLongstaffSchwartzPrices, where the Ridge Regression at each exercise date is replace by learning the conditional expectations via neural networks. In the following initialization we build a network with $3$ hidden layers and $16$ neurons each, between each hidden layer we apply the activation function $\\mathrm{tanh}(x)$. The remainding parameters are set to 'False'. (One can run the 'Hyperparameter_optimization_primal.py' file to optimize the choice of hyperparameters)"
   ]
  },
  {
   "cell_type": "code",
   "execution_count": 37,
   "id": "b2da432f",
   "metadata": {
    "id": "b2da432f"
   },
   "outputs": [],
   "source": [
    "ls_pricer = DeepLongstaffSchwartzPricer(\n",
    "        N1=N1,\n",
    "        T=T,\n",
    "        r=r,\n",
    "        mode=\"American Option\",\n",
    "        layers=3,\n",
    "        nodes=16,\n",
    "        activation_function='tanh',\n",
    "        batch_normalization=False,\n",
    "        regularizer=0.0,\n",
    "        dropout=False,\n",
    "        layer_normalization=False\n",
    "    )"
   ]
  },
  {
   "cell_type": "markdown",
   "id": "9jX2tyIWchsd",
   "metadata": {
    "id": "9jX2tyIWchsd"
   },
   "source": [
    "Similarly for the dual problem, we consider the same network but use the $relu(x)$ activation instead."
   ]
  },
  {
   "cell_type": "code",
   "execution_count": 34,
   "id": "186917ea",
   "metadata": {
    "id": "186917ea"
   },
   "outputs": [],
   "source": [
    "dual_pricer = DeepDualPricer(\n",
    "        N1=N1,\n",
    "        N=N,\n",
    "        T=T,\n",
    "        r=r,\n",
    "        layers=3,\n",
    "        nodes=16,\n",
    "        activation_function='relu',\n",
    "        batch_normalization=False,\n",
    "        regularizer=False,\n",
    "        dropout=False,\n",
    "        attention_layer=False,\n",
    "        layer_normalization=False\n",
    "    )\n",
    "\n",
    "# Consistent parameter usage for validation set size\n",
    "M_val_percentage = 0.9"
   ]
  },
  {
   "cell_type": "code",
   "execution_count": 36,
   "id": "9961676b",
   "metadata": {},
   "outputs": [
    {
     "name": "stdout",
     "output_type": "stream",
     "text": [
      "Regression at exercise date 11\n"
     ]
    },
    {
     "ename": "TypeError",
     "evalue": "isinstance() arg 2 must be a type, a tuple of types, or a union",
     "output_type": "error",
     "traceback": [
      "\u001b[0;31m---------------------------------------------------------------------------\u001b[0m",
      "\u001b[0;31mTypeError\u001b[0m                                 Traceback (most recent call last)",
      "Cell \u001b[0;32mIn[36], line 1\u001b[0m\n\u001b[0;32m----> 1\u001b[0m lower_bound_deep, lower_bound_deep_std, ls_regression_models \u001b[38;5;241m=\u001b[39m \u001b[43mls_pricer\u001b[49m\u001b[38;5;241;43m.\u001b[39;49m\u001b[43mprice\u001b[49m\u001b[43m(\u001b[49m\n\u001b[1;32m      2\u001b[0m \u001b[43m    \u001b[49m\u001b[43mlog_signatures_training\u001b[49m\u001b[43m,\u001b[49m\n\u001b[1;32m      3\u001b[0m \u001b[43m    \u001b[49m\u001b[43mPayoff_training\u001b[49m\u001b[43m,\u001b[49m\n\u001b[1;32m      4\u001b[0m \u001b[43m    \u001b[49m\u001b[43mlog_signatures_testing\u001b[49m\u001b[43m,\u001b[49m\n\u001b[1;32m      5\u001b[0m \u001b[43m    \u001b[49m\u001b[43mPayoff_testing\u001b[49m\u001b[43m,\u001b[49m\n\u001b[1;32m      6\u001b[0m \u001b[43m    \u001b[49m\u001b[43mM_val\u001b[49m\u001b[38;5;241;43m=\u001b[39;49m\u001b[38;5;241;43m0\u001b[39;49m\u001b[43m,\u001b[49m\n\u001b[1;32m      7\u001b[0m \u001b[43m    \u001b[49m\u001b[43mbatch\u001b[49m\u001b[38;5;241;43m=\u001b[39;49m\u001b[38;5;241;43m2\u001b[39;49m\u001b[38;5;241;43m*\u001b[39;49m\u001b[38;5;241;43m*\u001b[39;49m\u001b[38;5;241;43m8\u001b[39;49m\u001b[43m,\u001b[49m\n\u001b[1;32m      8\u001b[0m \u001b[43m    \u001b[49m\u001b[43mepochs\u001b[49m\u001b[38;5;241;43m=\u001b[39;49m\u001b[38;5;241;43m15\u001b[39;49m\u001b[43m,\u001b[49m\n\u001b[1;32m      9\u001b[0m \u001b[43m    \u001b[49m\u001b[43mlearning_rate\u001b[49m\u001b[38;5;241;43m=\u001b[39;49m\u001b[38;5;241;43m0.001\u001b[39;49m\n\u001b[1;32m     10\u001b[0m \u001b[43m    \u001b[49m\u001b[43m)\u001b[49m\n",
      "File \u001b[0;32m~/Downloads/Optimal_Stopping_with_signatures-main/Non linear signature optimal stopping/Deep_signatures_optimal_stopping.py:213\u001b[0m, in \u001b[0;36mDeepLongstaffSchwartzPricer.price\u001b[0;34m(self, S_training_sig, Payoff_training, S_testing_sig, Payoff_testing, batch, epochs, learning_rate, M_val)\u001b[0m\n\u001b[1;32m    211\u001b[0m early_stopping \u001b[38;5;241m=\u001b[39m EarlyStopping(monitor\u001b[38;5;241m=\u001b[39m\u001b[38;5;124m'\u001b[39m\u001b[38;5;124mloss\u001b[39m\u001b[38;5;124m'\u001b[39m, patience\u001b[38;5;241m=\u001b[39m\u001b[38;5;241m5\u001b[39m)\n\u001b[1;32m    212\u001b[0m \u001b[38;5;66;03m# Fit the model\u001b[39;00m\n\u001b[0;32m--> 213\u001b[0m \u001b[43mregr\u001b[49m\u001b[43m[\u001b[49m\u001b[43mj\u001b[49m\u001b[38;5;241;43m-\u001b[39;49m\u001b[38;5;241;43m1\u001b[39;49m\u001b[43m]\u001b[49m\u001b[38;5;241;43m.\u001b[39;49m\u001b[43mfit\u001b[49m\u001b[43m(\u001b[49m\n\u001b[1;32m    214\u001b[0m \u001b[43m    \u001b[49m\u001b[43mS_exercise_training_sig\u001b[49m\u001b[43m[\u001b[49m\u001b[43mITM\u001b[49m\u001b[43m,\u001b[49m\u001b[43m \u001b[49m\u001b[43mj\u001b[49m\u001b[38;5;241;43m-\u001b[39;49m\u001b[38;5;241;43m1\u001b[39;49m\u001b[43m,\u001b[49m\u001b[43m \u001b[49m\u001b[43m:\u001b[49m\u001b[43m]\u001b[49m\u001b[43m,\u001b[49m\n\u001b[1;32m    215\u001b[0m \u001b[43m    \u001b[49m\u001b[43mvalue\u001b[49m\u001b[43m[\u001b[49m\u001b[43mITM\u001b[49m\u001b[43m]\u001b[49m\u001b[43m,\u001b[49m\n\u001b[1;32m    216\u001b[0m \u001b[43m    \u001b[49m\u001b[43mbatch_size\u001b[49m\u001b[38;5;241;43m=\u001b[39;49m\u001b[43mbatch\u001b[49m\u001b[43m,\u001b[49m\n\u001b[1;32m    217\u001b[0m \u001b[43m    \u001b[49m\u001b[43mepochs\u001b[49m\u001b[38;5;241;43m=\u001b[39;49m\u001b[43mepochs\u001b[49m\u001b[43m,\u001b[49m\n\u001b[1;32m    218\u001b[0m \u001b[43m    \u001b[49m\u001b[43mverbose\u001b[49m\u001b[38;5;241;43m=\u001b[39;49m\u001b[38;5;241;43m1\u001b[39;49m\u001b[43m,\u001b[49m\n\u001b[1;32m    219\u001b[0m \u001b[43m    \u001b[49m\u001b[43mcallbacks\u001b[49m\u001b[38;5;241;43m=\u001b[39;49m\u001b[43m[\u001b[49m\u001b[43mearly_stopping\u001b[49m\u001b[43m]\u001b[49m\n\u001b[1;32m    220\u001b[0m \u001b[43m\u001b[49m\u001b[43m)\u001b[49m\n\u001b[1;32m    222\u001b[0m value_estimate \u001b[38;5;241m=\u001b[39m regr[j\u001b[38;5;241m-\u001b[39m\u001b[38;5;241m1\u001b[39m]\u001b[38;5;241m.\u001b[39mpredict(S_exercise_training_sig[ITM, j\u001b[38;5;241m-\u001b[39m\u001b[38;5;241m1\u001b[39m, :])\n\u001b[1;32m    224\u001b[0m \u001b[38;5;28;01mfor\u001b[39;00m m, itm \u001b[38;5;129;01min\u001b[39;00m \u001b[38;5;28menumerate\u001b[39m(ITM):\n\u001b[1;32m    225\u001b[0m     \u001b[38;5;66;03m# Update the value of the option if the estimated value is less than the payoff\u001b[39;00m\n",
      "File \u001b[0;32m~/Downloads/Optimal_Stopping_with_signatures-main/Non linear signature optimal stopping/Deep_signatures_optimal_stopping.py:454\u001b[0m, in \u001b[0;36mLongstaffSchwartzModel.fit\u001b[0;34m(self, X, y, epochs, batch_size, verbose, callbacks)\u001b[0m\n\u001b[1;32m    453\u001b[0m \u001b[38;5;28;01mdef\u001b[39;00m\u001b[38;5;250m \u001b[39m\u001b[38;5;21mfit\u001b[39m(\u001b[38;5;28mself\u001b[39m, X, y, epochs\u001b[38;5;241m=\u001b[39m\u001b[38;5;241m100\u001b[39m, batch_size\u001b[38;5;241m=\u001b[39m\u001b[38;5;241m32\u001b[39m, verbose\u001b[38;5;241m=\u001b[39m\u001b[38;5;241m1\u001b[39m, callbacks\u001b[38;5;241m=\u001b[39m\u001b[38;5;28;01mNone\u001b[39;00m):\n\u001b[0;32m--> 454\u001b[0m     \u001b[38;5;28;01mreturn\u001b[39;00m \u001b[38;5;28;43mself\u001b[39;49m\u001b[38;5;241;43m.\u001b[39;49m\u001b[43mmodel\u001b[49m\u001b[38;5;241;43m.\u001b[39;49m\u001b[43mfit\u001b[49m\u001b[43m(\u001b[49m\u001b[43mX\u001b[49m\u001b[43m,\u001b[49m\u001b[43m \u001b[49m\u001b[43my\u001b[49m\u001b[43m,\u001b[49m\u001b[43m \u001b[49m\u001b[43mepochs\u001b[49m\u001b[38;5;241;43m=\u001b[39;49m\u001b[43mepochs\u001b[49m\u001b[43m,\u001b[49m\u001b[43m \u001b[49m\u001b[43mbatch_size\u001b[49m\u001b[38;5;241;43m=\u001b[39;49m\u001b[43mbatch_size\u001b[49m\u001b[43m,\u001b[49m\n\u001b[1;32m    455\u001b[0m \u001b[43m                          \u001b[49m\u001b[43mverbose\u001b[49m\u001b[38;5;241;43m=\u001b[39;49m\u001b[43mverbose\u001b[49m\u001b[43m,\u001b[49m\u001b[43m \u001b[49m\u001b[43mcallbacks\u001b[49m\u001b[38;5;241;43m=\u001b[39;49m\u001b[43mcallbacks\u001b[49m\u001b[43m)\u001b[49m\n",
      "File \u001b[0;32m~/Downloads/Optimal_Stopping_with_signatures-main/.venv/lib/python3.10/site-packages/keras/src/utils/traceback_utils.py:123\u001b[0m, in \u001b[0;36mfilter_traceback.<locals>.error_handler\u001b[0;34m(*args, **kwargs)\u001b[0m\n\u001b[1;32m    120\u001b[0m     filtered_tb \u001b[38;5;241m=\u001b[39m _process_traceback_frames(e\u001b[38;5;241m.\u001b[39m__traceback__)\n\u001b[1;32m    121\u001b[0m     \u001b[38;5;66;03m# To get the full stack trace, call:\u001b[39;00m\n\u001b[1;32m    122\u001b[0m     \u001b[38;5;66;03m# `keras.config.disable_traceback_filtering()`\u001b[39;00m\n\u001b[0;32m--> 123\u001b[0m     \u001b[38;5;28;01mraise\u001b[39;00m e\u001b[38;5;241m.\u001b[39mwith_traceback(filtered_tb) \u001b[38;5;28;01mfrom\u001b[39;00m\u001b[38;5;250m \u001b[39m\u001b[38;5;28;01mNone\u001b[39;00m\n\u001b[1;32m    124\u001b[0m \u001b[38;5;28;01mfinally\u001b[39;00m:\n\u001b[1;32m    125\u001b[0m     \u001b[38;5;28;01mdel\u001b[39;00m filtered_tb\n",
      "File \u001b[0;32m~/Downloads/Optimal_Stopping_with_signatures-main/.venv/lib/python3.10/site-packages/tensorflow/python/autograph/impl/conversion.py:48\u001b[0m, in \u001b[0;36m_is_known_loaded_type\u001b[0;34m(f, module_name, entity_name)\u001b[0m\n\u001b[1;32m     46\u001b[0m   \u001b[38;5;28;01mreturn\u001b[39;00m \u001b[38;5;28;01mFalse\u001b[39;00m\n\u001b[1;32m     47\u001b[0m type_entity \u001b[38;5;241m=\u001b[39m \u001b[38;5;28mgetattr\u001b[39m(sys\u001b[38;5;241m.\u001b[39mmodules[module_name], entity_name)\n\u001b[0;32m---> 48\u001b[0m \u001b[38;5;28;01mif\u001b[39;00m \u001b[38;5;28;43misinstance\u001b[39;49m\u001b[43m(\u001b[49m\u001b[43mf\u001b[49m\u001b[43m,\u001b[49m\u001b[43m \u001b[49m\u001b[43mtype_entity\u001b[49m\u001b[43m)\u001b[49m:\n\u001b[1;32m     49\u001b[0m   \u001b[38;5;66;03m# The method if of this type. Example:\u001b[39;00m\n\u001b[1;32m     50\u001b[0m   \u001b[38;5;66;03m#\u001b[39;00m\n\u001b[1;32m     51\u001b[0m   \u001b[38;5;66;03m# o = ClassType()\u001b[39;00m\n\u001b[1;32m     52\u001b[0m   \u001b[38;5;66;03m# function(o.method)()\u001b[39;00m\n\u001b[1;32m     53\u001b[0m   \u001b[38;5;28;01mreturn\u001b[39;00m \u001b[38;5;28;01mTrue\u001b[39;00m\n\u001b[1;32m     54\u001b[0m \u001b[38;5;66;03m# Note: inspect is required here, to avoid unpacking tf.function decorators.\u001b[39;00m\n",
      "\u001b[0;31mTypeError\u001b[0m: isinstance() arg 2 must be a type, a tuple of types, or a union"
     ]
    }
   ],
   "source": [
    "lower_bound_deep, lower_bound_deep_std, ls_regression_models = ls_pricer.price(\n",
    "    log_signatures_training,\n",
    "    Payoff_training,\n",
    "    log_signatures_testing,\n",
    "    Payoff_testing,\n",
    "    M_val=0,\n",
    "    batch=2**8,\n",
    "    epochs=15,\n",
    "    learning_rate=0.001\n",
    "    )"
   ]
  },
  {
   "cell_type": "markdown",
   "id": "cDQUUvN_c6wl",
   "metadata": {
    "id": "cDQUUvN_c6wl"
   },
   "source": [
    "The Deep Longstaff Schwartz uses $15$ epochs for at the last exercise date, and then one epochs at the remainding ones by initiliazing smartly. The learning rate for the Stochastic Gradient Descent is choosen as $0.001$, and we use batch sizes of $2^8$."
   ]
  },
  {
   "cell_type": "code",
   "execution_count": null,
   "id": "d04e9ff6",
   "metadata": {
    "id": "d04e9ff6",
    "outputId": "8fd83460-c4c2-40ca-8718-2b02f3227db5"
   },
   "outputs": [],
   "source": [
    "print(f\"Deep Longstaff-Schwartz lower bound: {lower_bound_deep} ± {lower_bound_deep_std/np.sqrt(M2)}\")"
   ]
  },
  {
   "cell_type": "code",
   "execution_count": null,
   "id": "uut6o5aVdhj5",
   "metadata": {
    "colab": {
     "base_uri": "https://localhost:8080/"
    },
    "id": "uut6o5aVdhj5",
    "outputId": "9f14f75c-771c-4d40-c6d1-f896fbd4d960"
   },
   "outputs": [],
   "source": [
    "y0, upper_bound_deep, upper_bound_deep_std, dual_model, dual_rule_model = dual_pricer.price(\n",
    "        log_signatures_training,\n",
    "        Payoff_training,\n",
    "        dW_training[:,:,0],  # use only first component of Brownian increments\n",
    "        log_signatures_testing,\n",
    "        Payoff_testing,\n",
    "        dW_testing[:,:,0],  # use only first component of Brownian increments\n",
    "        M_val=int(0.9*M),\n",
    "        batch=2**8,\n",
    "        epochs=15,\n",
    "        learning_rate=0.01\n",
    "    )"
   ]
  },
  {
   "cell_type": "code",
   "execution_count": null,
   "id": "RsfNfQyIebJD",
   "metadata": {
    "colab": {
     "base_uri": "https://localhost:8080/"
    },
    "id": "RsfNfQyIebJD",
    "outputId": "7fa5e436-d332-4232-c5e7-1a2784f5d8f4"
   },
   "outputs": [],
   "source": [
    "print(f\"Deep Dual upper bound: {upper_bound_deep} ± {upper_bound_deep_std/np.sqrt(M2)}\")\n",
    "print(f\"Pricing interval: {(lower_bound_deep,upper_bound_deep)}± {np.maximum(upper_bound_deep_std,lower_bound_deep_std)/np.sqrt(M2)} \")"
   ]
  },
  {
   "cell_type": "markdown",
   "id": "a2K5Yrl-ejcN",
   "metadata": {
    "id": "a2K5Yrl-ejcN"
   },
   "source": [
    "We once again stress that the parameters for the the discretization (here $J=120$), the sample size (here $M=10^{15}$), and the signature trunaction level (here $K=3$) are not choosen big enough to get narrow gaps, but we can still already observe an improvement."
   ]
  },
  {
   "cell_type": "markdown",
   "id": "592b1b07",
   "metadata": {},
   "source": [
    "## Step 5: Contextualizing Theoretical Price in USD\n",
    "Convert the normalized model price bounds into USD per share and per contract, and print actionable trading recommendations."
   ]
  },
  {
   "cell_type": "code",
   "execution_count": null,
   "id": "1abfbfb8",
   "metadata": {},
   "outputs": [],
   "source": [
    "# Convert the normalized price bounds to actual USD values\n",
    "# Remember that our initial stock price X0 = 1 and strike = 1.05 are normalized\n",
    "\n",
    "actual_stock_price = X0 * 100  # USD per share\n",
    "actual_strike = strike * actual_stock_price  # USD per share\n",
    "\n",
    "# Convert normalized option price bounds to USD per share\n",
    "methods = [\n",
    "    \"Linear Signature\", \n",
    "    \"Extended Linear Signature\", \n",
    "    \"Deep Log-Signature\"\n",
    "]\n",
    "\n",
    "# Collect all price bounds\n",
    "lower_bounds = [lower_bound, lower_bound_extended, lower_bound_deep]\n",
    "upper_bounds = [upper_bound, upper_bound_extended, upper_bound_deep]\n",
    "stds = [lower_bound_std, lower_bound_extended_std, lower_bound_deep_std]\n",
    "\n",
    "# Create a table of results\n",
    "import pandas as pd\n",
    "from IPython.display import display, HTML\n",
    "\n",
    "results = []\n",
    "for i, method in enumerate(methods):\n",
    "    usd_lower = float(lower_bounds[i]) * actual_stock_price\n",
    "    usd_upper = float(upper_bounds[i]) * actual_stock_price\n",
    "    usd_std = float(stds[i]) * actual_stock_price / np.sqrt(M2)\n",
    "    gap = usd_upper - usd_lower\n",
    "    gap_percent = gap / usd_lower * 100\n",
    "    \n",
    "    results.append({\n",
    "        \"Method\": method,\n",
    "        \"Lower Bound (USD)\": f\"${usd_lower:.2f}\",\n",
    "        \"Upper Bound (USD)\": f\"${usd_upper:.2f}\",\n",
    "        \"Std Error (USD)\": f\"${usd_std:.2f}\",\n",
    "        \"Price Gap (USD)\": f\"${gap:.2f}\",\n",
    "        \"Gap (%)\": f\"{gap_percent:.2f}%\"\n",
    "    })\n",
    "\n",
    "results_df = pd.DataFrame(results)\n",
    "display(HTML(results_df.to_html(index=False)))"
   ]
  },
  {
   "cell_type": "markdown",
   "id": "617b75c6",
   "metadata": {},
   "source": [
    "## Option Trading Interpretation\n",
    "\n",
    "Now let's interpret these results from a trading perspective. We'll evaluate the fair price range for an American put option contract (which typically represents 100 shares)."
   ]
  },
  {
   "cell_type": "code",
   "execution_count": null,
   "id": "403373a8",
   "metadata": {},
   "outputs": [],
   "source": [
    "# Now we can calculate the fair price range for a standard options contract\n",
    "# Cell under “# For a standard options contract (100 shares)”\n",
    "shares_per_contract = 100\n",
    "contract_lower   = float(lower_bound_deep) * actual_stock_price\n",
    "contract_upper   = float(upper_bound_deep) * actual_stock_price\n",
    "contract_midpoint = (contract_lower + contract_upper) / 2\n",
    "\n",
    "print(f\"American Put Option Contract Analysis (for {shares_per_contract} shares)\")\n",
    "print(f\"=====================================================================\")\n",
    "print(f\"Stock Price: ${actual_stock_price:.2f}\")\n",
    "print(f\"Strike Price: ${actual_strike:.2f}\")\n",
    "print(f\"Time to Maturity: {T} years\")\n",
    "print(f\"Interest Rate: {r*100:.2f}%\")\n",
    "print(f\"Rough Volatility Parameters: H={h}, η={eta}, ρ={rho}, ξ₀={xi}\")\n",
    "print(f\"=====================================================================\")\n",
    "print(f\"Fair Price Range: ${contract_lower:.2f} to ${contract_upper:.2f} per contract\")\n",
    "print(f\"Midpoint Price: ${contract_midpoint:.2f}\")\n",
    "print(f\"=====================================================================\")\n",
    "\n",
    "# Trading recommendations based on market prices\n",
    "hypothetical_market_prices = [contract_lower * 0.8, contract_midpoint, contract_upper * 1.2]\n",
    "labels = [\"Below Fair Value\", \"At Fair Value\", \"Above Fair Value\"]\n",
    "\n",
    "print(\"Trading Recommendations:\")\n",
    "for price, label in zip(hypothetical_market_prices, labels):\n",
    "    print(f\"\\nIf market price is ${price:.2f} ({label}):\")\n",
    "    \n",
    "    if price < contract_lower:\n",
    "        print(\"→ BUY: Market price is below fair value range\")\n",
    "        print(f\"→ Expected edge: ${(contract_lower - price):.2f} to ${(contract_upper - price):.2f} per contract\")\n",
    "        print(\"→ Consider buying puts for protection or speculative profit\")\n",
    "    elif price > contract_upper:\n",
    "        print(\"→ SELL: Market price is above fair value range\")\n",
    "        print(f\"→ Expected edge: ${(price - contract_upper)::.2f} to ${(price - contract_lower):.2f} per contract\")\n",
    "        print(\"→ Consider writing puts, potentially as part of a spread strategy to limit risk\")\n",
    "    else:\n",
    "        print(\"→ NEUTRAL: Market price is within fair value range\")\n",
    "        position = (price - contract_lower) / (contract_upper - contract_lower)\n",
    "        print(f\"→ Price is positioned {position:.0%} through the fair value range\")\n",
    "        if position < 0.4:\n",
    "            print(\"→ Slight bias toward buying\")\n",
    "        elif position > 0.6:\n",
    "            print(\"→ Slight bias toward selling\")\n",
    "        else:\n",
    "            print(\"→ No clear edge for buying or selling\")"
   ]
  },
  {
   "cell_type": "markdown",
   "id": "3a30e089",
   "metadata": {},
   "source": [
    "## Risk Management Considerations\n",
    "\n",
    "When trading American put options in a rough volatility environment, several risk management considerations are important:"
   ]
  },
  {
   "cell_type": "code",
   "execution_count": null,
   "id": "ab5bf077",
   "metadata": {},
   "outputs": [
    {
     "ename": "NameError",
     "evalue": "name 'actual_strike' is not defined",
     "output_type": "error",
     "traceback": [
      "\u001b[0;31m---------------------------------------------------------------------------\u001b[0m",
      "\u001b[0;31mNameError\u001b[0m                                 Traceback (most recent call last)",
      "Cell \u001b[0;32mIn[36], line 3\u001b[0m\n\u001b[1;32m      1\u001b[0m \u001b[38;5;66;03m# Calculate additional risk metrics\u001b[39;00m\n\u001b[1;32m      2\u001b[0m \u001b[38;5;66;03m# In the “# Calculate additional risk metrics” cell\u001b[39;00m\n\u001b[0;32m----> 3\u001b[0m percent_itm \u001b[38;5;241m=\u001b[39m \u001b[38;5;28mmax\u001b[39m(\u001b[38;5;241m0\u001b[39m, (\u001b[43mactual_strike\u001b[49m \u001b[38;5;241m-\u001b[39m actual_stock_price) \u001b[38;5;241m/\u001b[39m actual_strike \u001b[38;5;241m*\u001b[39m \u001b[38;5;241m100\u001b[39m)\n\u001b[1;32m      5\u001b[0m moneyness \u001b[38;5;241m=\u001b[39m actual_stock_price \u001b[38;5;241m/\u001b[39m actual_strike\n\u001b[1;32m      6\u001b[0m time_value \u001b[38;5;241m=\u001b[39m \u001b[38;5;28mfloat\u001b[39m(lower_bound_deep) \u001b[38;5;241m*\u001b[39m actual_stock_price \u001b[38;5;241m-\u001b[39m \u001b[38;5;28mmax\u001b[39m(\u001b[38;5;241m0\u001b[39m, actual_strike \u001b[38;5;241m-\u001b[39m actual_stock_price)\n",
      "\u001b[0;31mNameError\u001b[0m: name 'actual_strike' is not defined"
     ]
    }
   ],
   "source": [
    "# Calculate additional risk metrics\n",
    "# In the “# Calculate additional risk metrics” cell\n",
    "percent_itm = max(0, (actual_strike - actual_stock_price) / actual_strike * 100)\n",
    "\n",
    "moneyness = actual_stock_price / actual_strike\n",
    "time_value = float(lower_bound_deep) * actual_stock_price - max(0, actual_strike - actual_stock_price)\n",
    "model_implied_volatility = 0.3  # This would typically be backed out from the model price\n",
    "\n",
    "print(\"Risk Management Considerations:\")\n",
    "print(\"=====================================================================\")\n",
    "print(f\"Moneyness: {moneyness:.2f} ({percent_itm:.0f}% in-the-money)\")\n",
    "print(f\"Time Value: ${time_value:.2f} per share\")\n",
    "print(f\"Uncertainty Range: ${(contract_upper - contract_lower):.2f} per contract\")\n",
    "print(\"\\nRecommended Risk Management Strategies:\")\n",
    "print(\"---------------------------------------------------------------------\")\n",
    "print(\"1. Position Sizing: Limit exposure to <5% of portfolio per trade\")\n",
    "print(\"2. Early Exercise Consideration: Monitor optimal stopping boundaries\")\n",
    "print(\"3. Hedging: Consider delta and vega hedging for larger positions\")\n",
    "print(\"4. Model Risk: Be aware model assumes H={:.2f}, may differ from market\".format(h))\n",
    "\n",
    "# Additional practical advice\n",
    "print(\"\\nPractical Implementation:\")\n",
    "print(\"---------------------------------------------------------------------\")\n",
    "if moneyness < 0.95:\n",
    "    print(\"→ Deep ITM option: Consider early exercise if dividend yield > interest rate\")\n",
    "    print(\"→ Watch for significant changes in volatility that could shift optimal exercise boundary\")\n",
    "elif moneyness > 1.05:\n",
    "    print(\"→ OTM option: Early exercise unlikely, trade like European option\")\n",
    "    print(\"→ Primary value is in insurance against downside moves\")\n",
    "else:\n",
    "    print(\"→ ATM option: Maximum gamma/vega exposure\")\n",
    "    print(\"→ Most sensitive to changes in volatility and rough volatility parameters\")\n",
    "    print(\"→ Actively monitor for optimal early exercise conditions near expiration\")\n",
    "\n",
    "print(\"\\nNote: This model incorporates rough volatility effects (H={:.2f}) which\".format(h))\n",
    "print(\"traditional models like Black-Scholes miss. This can be particularly\")\n",
    "print(\"important for managing risk in volatile market conditions.\")"
   ]
  }
 ],
 "metadata": {
  "colab": {
   "provenance": []
  },
  "kernelspec": {
   "display_name": ".venv",
   "language": "python",
   "name": "python3"
  },
  "language_info": {
   "codemirror_mode": {
    "name": "ipython",
    "version": 3
   },
   "file_extension": ".py",
   "mimetype": "text/x-python",
   "name": "python",
   "nbconvert_exporter": "python",
   "pygments_lexer": "ipython3",
   "version": "3.10.16"
  }
 },
 "nbformat": 4,
 "nbformat_minor": 5
}
