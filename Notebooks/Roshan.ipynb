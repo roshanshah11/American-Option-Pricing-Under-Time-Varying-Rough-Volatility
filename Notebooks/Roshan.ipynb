{
 "cells": [
  {
   "cell_type": "markdown",
   "id": "eccc9cab",
   "metadata": {
    "id": "eccc9cab"
   },
   "source": [
    "# Pricing American options in rough Bergomi with linear and deep signatures"
   ]
  },
  {
   "cell_type": "markdown",
   "id": "c9ckOdm_OAGE",
   "metadata": {
    "id": "c9ckOdm_OAGE"
   },
   "source": [
    "In this notebook we show how to use the code from https://github.com/lucapelizzari/Optimal_Stopping_with_signatures/tree/main, to compute lower and upper bounds for American options in the rough Bergomi model using different signature methods, see for example Section 4.2 of https://arxiv.org/abs/2312.03444 for the linear approach, whereas the deep neural network approaches will be discussed in a forthcoming paper.\n",
    "\n",
    "The repository consists of:\n",
    "\n",
    "*   Simulation packages for fractional Brownian motion, rough Bergomi and rough Heston models\n",
    "*   A modul for signature related computations **Signature_computer.py**, which can compute the signature and log-signature  of various lifts related to volatility modelling, with the additional option of adding polynomials of the state-process and/or volatility.\n",
    "*   The main module for the linear signature approaches **Linear_signature_optimal_stopping.py**, which can be used to derive lower and upper bounds to the optimal stopping problem applying the approaches described in https://arxiv.org/abs/2312.03444\n",
    "*   The main module for deep log-signature approaches **Deep_signature_optimal_stopping.py**, which extends the linear approaches by applying deep neural networks on the log-signature. This code is accompanying a working paper paper on \"American option pricing using signatures\"\n",
    "\n",
    "\n",
    "\n",
    "\n"
   ]
  },
  {
   "cell_type": "code",
   "execution_count": 22,
   "id": "c5c7aa9c",
   "metadata": {},
   "outputs": [],
   "source": [
    "# Fix for TensorFlow import issues and environment compatibility\n",
    "# Set correct Python path to find modules\n",
    "import sys\n",
    "import os\n",
    "\n",
    "# Add the root directory and subdirectories to Python path\n",
    "repo_root = os.path.abspath('..')\n",
    "sys.path.append(repo_root)\n",
    "sys.path.append(os.path.join(repo_root, \"Linear signature optimal stopping\"))\n",
    "sys.path.append(os.path.join(repo_root, \"Non linear signature optimal stopping\"))\n",
    "\n",
    "# Suppress TensorFlow warnings\n",
    "import warnings\n",
    "warnings.filterwarnings('ignore')\n",
    "os.environ['TF_CPP_MIN_LOG_LEVEL'] = '2'"
   ]
  },
  {
   "cell_type": "markdown",
   "id": "57e568a2",
   "metadata": {
    "id": "57e568a2"
   },
   "source": [
    "## American Put options in the rough Bergomi model"
   ]
  },
  {
   "cell_type": "markdown",
   "id": "6572b688",
   "metadata": {
    "id": "6572b688"
   },
   "source": [
    "\n",
    "\n",
    "Recall the price and volatility dynamics of the latter are given by \\begin{align*}\n",
    "dX_t &= rX_tdt+X_tv_t \\left (\\rho dW_r+\\sqrt{1-\\rho^2}dB_t\\right ), \\\\ v_t & =\\xi_0\\mathcal{E}\\left (\\eta \\int_0^t(t-s)^{H-\\frac{1}{2}}dW_s \\right )\n",
    "\\end{align*} and pricing an American Put-option can be formulated as optimal stopping problem $$y_0=\\sup_{\\tau \\in \\mathcal{S}_0}\\mathbb{E}[e^{-r\\tau}\\left (K-X_{\\tau}\\right )^{+}]$$ for some strike $K$. In this notebook we consider the following choice of paramteres $$ H=0.07,X_0 = 100, r=0.05, \\eta = 1.9, \\rho = -0.9, \\xi_0= 0.09, K = 110.$$\n"
   ]
  },
  {
   "cell_type": "markdown",
   "id": "Xlp80cKeRW9z",
   "metadata": {
    "id": "Xlp80cKeRW9z"
   },
   "source": [
    "## Step 1: Simulation rough Bergomi model"
   ]
  },
  {
   "cell_type": "markdown",
   "id": "I7PTV1Z3Rig-",
   "metadata": {
    "id": "I7PTV1Z3Rig-"
   },
   "source": [
    "We start by defining the parameters of the model and importing the rough Berogmi simulation package."
   ]
  },
  {
   "cell_type": "code",
   "execution_count": 23,
   "id": "fd54c84b",
   "metadata": {
    "id": "fd54c84b"
   },
   "outputs": [],
   "source": [
    "import numpy as np\n",
    "# Define all your parameters\n",
    "N1 = 14  # number of exercise-dates\n",
    "N = 252  # discretization-grid\n",
    "T = 14  # Maturity in days\n",
    "T_years = T / 252  # Maturity in years\n",
    "M = 2**17  # number of samples for training\n",
    "M2 = 2**17  # number of samples for testing\n",
    "H = 0.07  # Hurst parameter\n",
    "eta = 1.9\n",
    "X0 = 1\n",
    "r = 0.05\n",
    "rho = -0.9\n",
    "xi = 0.09\n",
    "strike = 1.05  # This is used in phi, not directly in the simulation\n",
    "K = 2  # This is the depth of Signature parameter\n",
    "# Your payoff function uses strike\n",
    "def phi(x):\n",
    "    return np.maximum(strike-x, 0)  # payoff function"
   ]
  },
  {
   "cell_type": "markdown",
   "id": "61KWkP-iYnFJ",
   "metadata": {
    "id": "61KWkP-iYnFJ"
   },
   "source": [
    "Note that the number of samples should be much bigger to get reliable results, but to keep the complexity low in this presentation we restrict to $2**15$ training and testing paths here."
   ]
  },
  {
   "cell_type": "code",
   "execution_count": 24,
   "id": "7057f779",
   "metadata": {
    "id": "7057f779"
   },
   "outputs": [],
   "source": [
    "# Adjust path to include repository root\n",
    "import sys\n",
    "import os\n",
    "sys.path.append(os.path.abspath('..'))\n",
    "from rBergomi_simulation import SimulationofrBergomi"
   ]
  },
  {
   "cell_type": "markdown",
   "id": "29669ebe",
   "metadata": {
    "id": "29669ebe"
   },
   "source": [
    "Next we define a function generating rough Bergomi prices, volatilies and the corresponding Brownian motion and payoff process. Then we generate training and testing data."
   ]
  },
  {
   "cell_type": "code",
   "execution_count": 25,
   "id": "9cd21314",
   "metadata": {
    "id": "9cd21314"
   },
   "outputs": [],
   "source": [
    "def generate_data(M, N, T_years, phi, rho, K, X0, H, xi, eta, r):\n",
    "    X, V, I, dI, dW1, dW2, dB, Y = SimulationofrBergomi(M, N, T_years, phi, rho, K, X0, H, xi, eta, r)\n",
    "\n",
    "    # Calculate Payoff\n",
    "    Payoff = phi(X)\n",
    "\n",
    "    # Stack state and volatility into features for signature\n",
    "    MM = np.stack([X, V], axis=-1)\n",
    "\n",
    "    return X, V, Payoff, dW1, I, MM\n"
   ]
  },
  {
   "cell_type": "code",
   "execution_count": 26,
   "id": "7c86a8cc",
   "metadata": {
    "id": "7c86a8cc"
   },
   "outputs": [],
   "source": [
    "# Use K in your function call, not strike\n",
    "S_training, V_training, Payoff_training, dW_training, I_training, MM_training = generate_data(M, N, T, phi, rho, K, X0, H, xi, eta, r)\n",
    "S_testing, V_testing, Payoff_testing, dW_testing, I_testing, MM_testing = generate_data(M2, N, T, phi, rho, K, X0, H, xi, eta, r)"
   ]
  },
  {
   "cell_type": "code",
   "execution_count": 27,
   "id": "bb1fef55",
   "metadata": {},
   "outputs": [
    {
     "name": "stdout",
     "output_type": "stream",
     "text": [
      "Show Head of the training data\n",
      "S_training [[1.         1.01245418 1.00885189 0.99691838 1.00299428 0.98406061\n",
      "  0.97479064 0.98577288 0.98765326 1.00055605 1.02758306 1.04596186\n",
      "  1.04900607 1.0504907  1.05642847]\n",
      " [1.         1.03298353 1.03184662 1.03486873 1.05566327 1.05563455\n",
      "  1.06180082 1.06162445 1.06425758 1.06050868 1.06485823 1.05486137\n",
      "  1.05012205 1.06384281 1.06649534]\n",
      " [1.         0.97503986 0.97571065 0.97717886 0.95219762 0.92817063\n",
      "  0.92279866 0.88678035 0.9127524  0.91713112 0.91000248 0.8261809\n",
      "  0.84842891 0.8401957  0.76851771]\n",
      " [1.         1.0203757  1.01007883 1.03530838 1.04482952 1.04213932\n",
      "  1.0694246  1.06833684 1.06729816 1.07001515 1.0833717  1.07502874\n",
      "  1.0610243  1.05842682 1.05125967]\n",
      " [1.         1.0105417  1.01220105 1.02361013 1.03772722 1.03908937\n",
      "  1.04126733 1.04295557 1.04764943 1.03730417 1.04039195 1.04241369\n",
      "  1.0454334  1.04244252 1.0581186 ]]\n",
      "V_training [[9.00000000e-02 3.54043111e-03 2.62680315e-01 7.06279264e-02\n",
      "  3.76575938e-02 3.80393083e-01 5.98800593e-02 2.63774847e-02\n",
      "  1.31025115e-01 8.03630818e-02 8.73159265e-03 1.98839351e-03\n",
      "  3.54667845e-03 2.00412678e-03 2.52239096e-03]\n",
      " [9.00000000e-02 3.73591125e-03 3.65961036e-02 1.79680102e-02\n",
      "  3.22318816e-03 1.49913178e-03 1.23572437e-03 7.53268024e-03\n",
      "  1.22000141e-03 4.26872742e-03 1.17886050e-02 3.05132655e-03\n",
      "  6.53735226e-02 4.79543786e-03 8.09209866e-03]\n",
      " [9.00000000e-02 7.98446888e-02 2.97408219e-02 1.58369073e-01\n",
      "  1.19202761e-01 9.60445117e-02 1.10006415e-01 1.13695436e-01\n",
      "  8.20854397e-02 1.90949757e-02 2.74394499e-01 1.97856880e+00\n",
      "  9.31656683e-02 3.52533207e-01 1.54594187e+00]\n",
      " [9.00000000e-02 3.78777393e-02 3.29805441e-02 2.89937649e-03\n",
      "  2.67462901e-03 3.37792011e-02 3.69730012e-03 5.18917010e-03\n",
      "  9.17870156e-03 2.26047183e-02 8.43001632e-03 1.62747671e-02\n",
      "  4.51985143e-02 3.15798338e-02 1.61283535e-02]\n",
      " [9.00000000e-02 3.48551667e-03 2.44391791e-02 1.46589589e-02\n",
      "  1.95633486e-03 5.41969481e-03 6.20351882e-03 1.09285759e-02\n",
      "  1.52150013e-02 1.44296333e-02 1.37557893e-02 1.09532338e-02\n",
      "  3.79983803e-03 2.38159477e-02 6.99549927e-03]]\n",
      "Payoff_training [[0.05       0.03754582 0.04114811 0.05308162 0.04700572 0.06593939\n",
      "  0.07520936 0.06422712 0.06234674 0.04944395 0.02241694 0.00403814\n",
      "  0.00099393 0.         0.        ]\n",
      " [0.05       0.01701647 0.01815338 0.01513127 0.         0.\n",
      "  0.         0.         0.         0.         0.         0.\n",
      "  0.         0.         0.        ]\n",
      " [0.05       0.07496014 0.07428935 0.07282114 0.09780238 0.12182937\n",
      "  0.12720134 0.16321965 0.1372476  0.13286888 0.13999752 0.2238191\n",
      "  0.20157109 0.2098043  0.28148229]\n",
      " [0.05       0.0296243  0.03992117 0.01469162 0.00517048 0.00786068\n",
      "  0.         0.         0.         0.         0.         0.\n",
      "  0.         0.         0.        ]\n",
      " [0.05       0.0394583  0.03779895 0.02638987 0.01227278 0.01091063\n",
      "  0.00873267 0.00704443 0.00235057 0.01269583 0.00960805 0.00758631\n",
      "  0.0045666  0.00755748 0.        ]]\n",
      "dW_training [[[-1.09349429e-01 -3.38051543e+00]\n",
      "  [ 5.94995410e-02  3.79872250e+00]\n",
      "  [ 5.22501242e-03  1.27745470e+00]\n",
      "  [-4.15719759e-02  4.03014326e-01]\n",
      "  [ 1.43218937e-01  4.08003545e+00]\n",
      "  [ 7.43718214e-03  1.20034333e-01]\n",
      "  [-3.43931805e-02 -8.51096678e-01]\n",
      "  [ 9.06639299e-03  1.86958316e+00]\n",
      "  [-1.90217056e-02  1.13490248e+00]\n",
      "  [-5.71481853e-02 -1.75589510e+00]\n",
      "  [-1.37669191e-01 -3.30317392e+00]\n",
      "  [-7.25697083e-02 -1.31436525e+00]\n",
      "  [-2.22864156e-02 -1.74442416e+00]\n",
      "  [-8.76977724e-02 -1.50524035e+00]]\n",
      "\n",
      " [[-1.53332673e-01 -3.30491811e+00]\n",
      "  [ 4.30789135e-02  1.42926716e+00]\n",
      "  [-5.06527723e-02 -1.76476635e-01]\n",
      "  [-1.22521562e-01 -2.14561621e+00]\n",
      "  [ 2.48538745e-02 -2.20579343e+00]\n",
      "  [-1.56909889e-01 -2.99018016e+00]\n",
      "  [ 1.77530098e-02  8.79324282e-01]\n",
      "  [-7.06171543e-02 -2.21481100e+00]\n",
      "  [ 4.84110511e-02  1.31455612e-02]\n",
      "  [-5.05000280e-02  7.38472116e-01]\n",
      "  [ 7.51190615e-02 -7.76767096e-01]\n",
      "  [ 9.89404374e-02  2.67782247e+00]\n",
      "  [-6.28627039e-02 -1.87708246e+00]\n",
      "  [ 5.97303697e-03 -3.92418887e-01]]\n",
      "\n",
      " [[ 4.56887826e-02  1.00233664e+00]\n",
      "  [-2.96998893e-02 -6.86152323e-01]\n",
      "  [-1.47211759e-02  2.09895541e+00]\n",
      "  [ 5.03050242e-02  1.88050129e+00]\n",
      "  [ 9.46980532e-02  1.13350039e+00]\n",
      "  [-1.45110459e-02  5.75825445e-01]\n",
      "  [ 1.36175564e-01  1.00755244e+00]\n",
      "  [-3.03606764e-02 -5.73876247e-01]\n",
      "  [-6.38610757e-03 -1.99946062e+00]\n",
      "  [ 6.87712006e-02  1.96171221e+00]\n",
      "  [ 1.74353882e-01  4.21883742e+00]\n",
      "  [-6.36586414e-02 -1.45819761e+00]\n",
      "  [ 3.19488672e-02  1.46732934e+00]\n",
      "  [ 1.30027976e-01  3.42006894e+00]]\n",
      "\n",
      " [[-1.67033800e-02 -4.66212124e-02]\n",
      "  [ 6.54505062e-02  3.09956138e-02]\n",
      "  [-1.74287895e-01 -3.94464420e+00]\n",
      "  [-1.31314008e-01 -2.29967632e+00]\n",
      "  [ 8.95436107e-02  2.24550190e+00]\n",
      "  [-1.23020378e-01 -2.03251935e+00]\n",
      "  [ 3.03315751e-03 -4.48232625e-01]\n",
      "  [-7.38646168e-03  6.66940224e-02]\n",
      "  [ 1.80152500e-02  1.25995039e+00]\n",
      "  [-6.48730257e-02 -4.03019027e-01]\n",
      "  [ 8.95799447e-02  1.07203622e+00]\n",
      "  [ 1.34966739e-01  1.52576248e+00]\n",
      "  [ 5.71356722e-02 -1.47989619e-01]\n",
      "  [-1.34425944e-02 -1.34748147e+00]]\n",
      "\n",
      " [[-5.41985264e-02 -3.40250429e+00]\n",
      "  [-5.57881129e-02 -4.70447407e-02]\n",
      "  [-6.10723077e-02 -2.80490194e-01]\n",
      "  [-9.85727145e-02 -2.65566251e+00]\n",
      "  [-4.07081877e-02 -4.78644204e-01]\n",
      "  [-3.85432021e-02 -1.83978229e-01]\n",
      "  [-1.37913673e-02  7.39035646e-01]\n",
      "  [-4.79414396e-02  1.11896301e+00]\n",
      "  [ 6.34828689e-02  1.32188334e+00]\n",
      "  [-2.36611883e-02  4.71992768e-01]\n",
      "  [-1.74804959e-02  3.55300748e-01]\n",
      "  [-6.54662224e-02 -1.05130374e+00]\n",
      "  [ 5.56854371e-02  2.03987644e+00]\n",
      "  [-8.38600914e-02 -3.79824422e-01]]]\n",
      "I_training [[ 0.         -0.03280483 -0.02926452 -0.02658657 -0.03763471 -0.00984226\n",
      "  -0.00525531 -0.01367146 -0.01219897 -0.01908433 -0.03528492 -0.04814914\n",
      "  -0.05138512 -0.05271237 -0.05663838]\n",
      " [ 0.         -0.0459998  -0.04336673 -0.05305666 -0.06948004 -0.06806901\n",
      "  -0.07414434 -0.07352027 -0.07964921 -0.07795828 -0.08125772 -0.07310165\n",
      "  -0.06763629 -0.08370918 -0.08329556]\n",
      " [ 0.          0.01370663  0.0053144   0.00277565  0.02279484  0.05549006\n",
      "   0.05099293  0.09615858  0.08592133  0.08409168  0.0935948   0.18492603\n",
      "   0.09538276  0.10513453  0.182338  ]\n",
      " [ 0.         -0.00501101  0.0077271  -0.02392454 -0.03099525 -0.02636434\n",
      "  -0.0489744  -0.04878997 -0.04932206 -0.0475961  -0.05734967 -0.04912488\n",
      "  -0.03190682 -0.01975981 -0.02214866]\n",
      " [ 0.         -0.01625956 -0.01955319 -0.02910065 -0.04103526 -0.0428358\n",
      "  -0.0456733  -0.04675954 -0.05177133 -0.04394077 -0.04678304 -0.04883324\n",
      "  -0.05568478 -0.05225217 -0.06519381]]\n",
      "MM_training [[[1.00000000e+00 9.00000000e-02]\n",
      "  [1.01245418e+00 3.54043111e-03]\n",
      "  [1.00885189e+00 2.62680315e-01]\n",
      "  [9.96918379e-01 7.06279264e-02]\n",
      "  [1.00299428e+00 3.76575938e-02]\n",
      "  [9.84060610e-01 3.80393083e-01]\n",
      "  [9.74790637e-01 5.98800593e-02]\n",
      "  [9.85772883e-01 2.63774847e-02]\n",
      "  [9.87653264e-01 1.31025115e-01]\n",
      "  [1.00055605e+00 8.03630818e-02]\n",
      "  [1.02758306e+00 8.73159265e-03]\n",
      "  [1.04596186e+00 1.98839351e-03]\n",
      "  [1.04900607e+00 3.54667845e-03]\n",
      "  [1.05049070e+00 2.00412678e-03]\n",
      "  [1.05642847e+00 2.52239096e-03]]\n",
      "\n",
      " [[1.00000000e+00 9.00000000e-02]\n",
      "  [1.03298353e+00 3.73591125e-03]\n",
      "  [1.03184662e+00 3.65961036e-02]\n",
      "  [1.03486873e+00 1.79680102e-02]\n",
      "  [1.05566327e+00 3.22318816e-03]\n",
      "  [1.05563455e+00 1.49913178e-03]\n",
      "  [1.06180082e+00 1.23572437e-03]\n",
      "  [1.06162445e+00 7.53268024e-03]\n",
      "  [1.06425758e+00 1.22000141e-03]\n",
      "  [1.06050868e+00 4.26872742e-03]\n",
      "  [1.06485823e+00 1.17886050e-02]\n",
      "  [1.05486137e+00 3.05132655e-03]\n",
      "  [1.05012205e+00 6.53735226e-02]\n",
      "  [1.06384281e+00 4.79543786e-03]\n",
      "  [1.06649534e+00 8.09209866e-03]]\n",
      "\n",
      " [[1.00000000e+00 9.00000000e-02]\n",
      "  [9.75039863e-01 7.98446888e-02]\n",
      "  [9.75710649e-01 2.97408219e-02]\n",
      "  [9.77178864e-01 1.58369073e-01]\n",
      "  [9.52197616e-01 1.19202761e-01]\n",
      "  [9.28170625e-01 9.60445117e-02]\n",
      "  [9.22798658e-01 1.10006415e-01]\n",
      "  [8.86780352e-01 1.13695436e-01]\n",
      "  [9.12752395e-01 8.20854397e-02]\n",
      "  [9.17131119e-01 1.90949757e-02]\n",
      "  [9.10002484e-01 2.74394499e-01]\n",
      "  [8.26180897e-01 1.97856880e+00]\n",
      "  [8.48428915e-01 9.31656683e-02]\n",
      "  [8.40195700e-01 3.52533207e-01]\n",
      "  [7.68517713e-01 1.54594187e+00]]\n",
      "\n",
      " [[1.00000000e+00 9.00000000e-02]\n",
      "  [1.02037570e+00 3.78777393e-02]\n",
      "  [1.01007883e+00 3.29805441e-02]\n",
      "  [1.03530838e+00 2.89937649e-03]\n",
      "  [1.04482952e+00 2.67462901e-03]\n",
      "  [1.04213932e+00 3.37792011e-02]\n",
      "  [1.06942460e+00 3.69730012e-03]\n",
      "  [1.06833684e+00 5.18917010e-03]\n",
      "  [1.06729816e+00 9.17870156e-03]\n",
      "  [1.07001515e+00 2.26047183e-02]\n",
      "  [1.08337170e+00 8.43001632e-03]\n",
      "  [1.07502874e+00 1.62747671e-02]\n",
      "  [1.06102430e+00 4.51985143e-02]\n",
      "  [1.05842682e+00 3.15798338e-02]\n",
      "  [1.05125967e+00 1.61283535e-02]]\n",
      "\n",
      " [[1.00000000e+00 9.00000000e-02]\n",
      "  [1.01054170e+00 3.48551667e-03]\n",
      "  [1.01220105e+00 2.44391791e-02]\n",
      "  [1.02361013e+00 1.46589589e-02]\n",
      "  [1.03772722e+00 1.95633486e-03]\n",
      "  [1.03908937e+00 5.41969481e-03]\n",
      "  [1.04126733e+00 6.20351882e-03]\n",
      "  [1.04295557e+00 1.09285759e-02]\n",
      "  [1.04764943e+00 1.52150013e-02]\n",
      "  [1.03730417e+00 1.44296333e-02]\n",
      "  [1.04039195e+00 1.37557893e-02]\n",
      "  [1.04241369e+00 1.09532338e-02]\n",
      "  [1.04543340e+00 3.79983803e-03]\n",
      "  [1.04244252e+00 2.38159477e-02]\n",
      "  [1.05811860e+00 6.99549927e-03]]]\n"
     ]
    }
   ],
   "source": [
    "print(\"Show Head of the training data\")\n",
    "print(\"S_training\", S_training[:5])\n",
    "print(\"V_training\", V_training[:5])\n",
    "print(\"Payoff_training\", Payoff_training[:5])\n",
    "print(\"dW_training\", dW_training[:5])\n",
    "print(\"I_training\", I_training[:5])\n",
    "print(\"MM_training\", MM_training[:5])\n"
   ]
  },
  {
   "cell_type": "code",
   "execution_count": 28,
   "id": "68169f97",
   "metadata": {
    "id": "68169f97"
   },
   "outputs": [],
   "source": [
    "#compute the volatility processes\n",
    "vol_training = np.sqrt(V_training)\n",
    "vol_testing = np.sqrt(V_testing)"
   ]
  },
  {
   "cell_type": "markdown",
   "id": "LW4SLN7bQy4R",
   "metadata": {
    "id": "LW4SLN7bQy4R"
   },
   "source": [
    "## Step 2: Signature computations"
   ]
  },
  {
   "cell_type": "markdown",
   "id": "NUEKCKWsRPy4",
   "metadata": {
    "id": "NUEKCKWsRPy4"
   },
   "source": [
    "We will make us uf the iisignature package https://pypi.org/project/iisignature/ to compute the signature, and it can be installed using pip:"
   ]
  },
  {
   "cell_type": "markdown",
   "id": "d14790b8",
   "metadata": {
    "id": "d14790b8"
   },
   "source": [
    "We import our signature computation module, which can compute various signature and log signature lift related to the generated data"
   ]
  },
  {
   "cell_type": "code",
   "execution_count": 29,
   "id": "1fa867a0",
   "metadata": {
    "id": "1fa867a0"
   },
   "outputs": [],
   "source": [
    "from Signature_computer import SignatureComputer"
   ]
  },
  {
   "cell_type": "markdown",
   "id": "fe2eb781",
   "metadata": {
    "id": "fe2eb781"
   },
   "source": [
    "Next we initialize the **SignatureComputer**, which allows to choose from the linear and the log signature, and various choices of signature lifts. Here are some examples $$ t\\mapsto \\mathrm{Sig}(A_t,X_t),t\\mapsto \\mathrm{Sig}(A_t,\\phi(X)_t),t\\mapsto \\mathrm{Sig}(A_t,X_t,X_{t-\\epsilon}),t\\mapsto \\mathrm{Sig}(A_t,X_t,\\phi(X_t)),t\\mapsto \\mathrm{Sig}(A_t,v_t),$$ where $t\\mapsto A_t$ is a monoton path and in our examples we choose between $$A_t=t, \\quad  A_t = \\langle X\\rangle_t.$$ Additonally we can add Laguerre polynomials of $X$ or $(X,v)$ to the signature, see the module for all the details.\n",
    "\n",
    "In this example we choose the basis $(\\mathrm{Sig}(t,v_t),p_i(X_t))$, which proves to be a solid choice for rough volatility models. We choose both the polynomial and signature degree to be $3$ for this example. (To improve result one should higher truncations levels ($4-5$) for the signature, but to keep the complexity reasonable here we choose level $3$ signatures.)"
   ]
  },
  {
   "cell_type": "code",
   "execution_count": 30,
   "id": "8c4a377c",
   "metadata": {
    "id": "8c4a377c"
   },
   "outputs": [],
   "source": [
    "#initialize signature computer\n",
    "sig_computer = SignatureComputer(T, N, 3, \"linear\", signature_lift=\"polynomial-vol\", poly_degree=3)"
   ]
  },
  {
   "cell_type": "code",
   "execution_count": 31,
   "id": "8c365145",
   "metadata": {
    "colab": {
     "base_uri": "https://localhost:8080/"
    },
    "id": "8c365145",
    "outputId": "d26148d9-199d-4ebd-bd3f-60524818666b"
   },
   "outputs": [
    {
     "name": "stdout",
     "output_type": "stream",
     "text": [
      "Computing linear signature with polynomial-vol lift\n",
      "Computing linear signature with polynomial-vol lift\n"
     ]
    }
   ],
   "source": [
    "#Compute the signature for training and test data\n",
    "tt = np.linspace(0,T,N+1)\n",
    "A_training = np.zeros((M, N+1)) #time-augmentation\n",
    "A_testing = np.zeros((M2, N+1))\n",
    "A_training[:, 1:] = A_testing[:, 1:] = tt[1:]\n",
    "signatures_training = sig_computer.compute_signature(\n",
    "    S_training, vol_training, A_training, Payoff_training,\n",
    "    dW_training, I_training, MM_training\n",
    ")\n",
    "signatures_testing = sig_computer.compute_signature(\n",
    "    S_testing, vol_testing, A_testing, Payoff_testing,\n",
    "    dW_testing, I_testing, MM_testing\n",
    ")"
   ]
  },
  {
   "cell_type": "markdown",
   "id": "B0iPgqVDUXyd",
   "metadata": {
    "id": "B0iPgqVDUXyd"
   },
   "source": [
    "Some example of the signature paths"
   ]
  },
  {
   "cell_type": "code",
   "execution_count": 32,
   "id": "qLgGhAQqUa-K",
   "metadata": {
    "colab": {
     "base_uri": "https://localhost:8080/",
     "height": 447
    },
    "id": "qLgGhAQqUa-K",
    "outputId": "e276704a-7235-49f0-98cd-04e9f91b9cdf"
   },
   "outputs": [
    {
     "data": {
      "text/plain": [
       "<matplotlib.legend.Legend at 0x158e73df0>"
      ]
     },
     "execution_count": 32,
     "metadata": {},
     "output_type": "execute_result"
    },
    {
     "data": {
      "image/png": "[encoded data removed]",
      "text/plain": [
       "<Figure size 640x480 with 1 Axes>"
      ]
     },
     "metadata": {},
     "output_type": "display_data"
    }
   ],
   "source": [
    "import matplotlib.pyplot as plt\n",
    "plt.plot(signatures_training[0,:,0],label = 'first level (constant)')\n",
    "plt.plot(signatures_training[0,:,1],label = '1st level: time ')\n",
    "plt.plot(signatures_training[0,:,2],label = '2nd level: $v_t-v_0$')\n",
    "plt.plot(signatures_training[0,:,4],label = '3th level: $\\int sdv_s $')\n",
    "plt.plot(signatures_training[0,:,12],label = '4th level: $\\int \\int udv_u dv_s $')\n",
    "plt.legend(loc='upper right')\n"
   ]
  },
  {
   "cell_type": "markdown",
   "id": "19711264",
   "metadata": {
    "id": "19711264"
   },
   "source": [
    "## Step 3: Compute pricing intervals with linear signatures\n"
   ]
  },
  {
   "cell_type": "markdown",
   "id": "180c7788",
   "metadata": {
    "id": "180c7788"
   },
   "source": [
    "We can now import the linear primal and dual pricers, which compute true lower and upper bounds.\n",
    "- The **LinearLongstaffSchwartzPricer** uses the signature of the training data to recursively approximate continuation values in the spirit of the Longstaff-Schwartz algorithm (descibed in detail in Section 3.1 of https://arxiv.org/abs/2312.03444). The resulting regression coefficients at each exercise date provide a stopping rule, which can be applied to the testing data to get true lower-bounds\n",
    "- The **LinearDualPricer** uses the signature of the training data to minimize over the familiy of linear signature martingales, by solving a corresponding linear program (described in Detail in Section 3.2 of https://arxiv.org/abs/2312.03444). The resulting coefficients yield a Doob martingale approximation, which for the testing data yields a true upper bound.\n",
    "By combining the two values, we receive confidence intervals for the true option price."
   ]
  },
  {
   "cell_type": "markdown",
   "id": "1eTaJQW5V8q6",
   "metadata": {
    "id": "1eTaJQW5V8q6"
   },
   "source": [
    "To solve the linear programm, one can optionally choose to use Gurobi https://www.gurobi.com, which requires a free licence, which is recommended especially for high-dimensional LPs, which occur when choosing large sample-sizes and/or high signature truncations levels. Alternatively, we use the free LP solvers from CVXPY"
   ]
  },
  {
   "cell_type": "code",
   "execution_count": 33,
   "id": "edbc73ec",
   "metadata": {
    "id": "edbc73ec"
   },
   "outputs": [],
   "source": [
    "# ────────────────────────────────────────────────────────────────────────────────\n",
    "# add root of repo and the “Linear signature optimal stopping” folder to PYTHONPATH\n",
    "import sys, os\n",
    "repo_root = os.path.abspath(\"..\")  # /Users/.../Optimal_Stopping_with_signatures\n",
    "ls_folder = os.path.join(repo_root, \"Linear signature optimal stopping\")\n",
    "sys.path.extend([repo_root, ls_folder])\n",
    "\n",
    "# now the module can be imported\n",
    "from Linear_signature_optimal_stopping import LinearLongstaffSchwartzPricer, LinearDualPricer\n",
    "# ────────────────────────────────────────────────────────────────────────────────"
   ]
  },
  {
   "cell_type": "code",
   "execution_count": 34,
   "id": "5a888326",
   "metadata": {
    "id": "5a888326"
   },
   "outputs": [],
   "source": [
    "\n",
    "#initialze the models\n",
    "ls_pricer = LinearLongstaffSchwartzPricer(\n",
    "        N1=N1,\n",
    "        T=T_years,\n",
    "        r=r,\n",
    "        mode=\"American Option\",\n",
    "        ridge=10**(-9)\n",
    "    )\n",
    "\n",
    "dual_pricer = LinearDualPricer(\n",
    "        N1=N1,\n",
    "        N=N,\n",
    "        T=T_years,\n",
    "        r=r,\n",
    "        LP_solver=\"CVXPY\"\n",
    "    )"
   ]
  },
  {
   "cell_type": "markdown",
   "id": "28db4f4d",
   "metadata": {
    "id": "28db4f4d"
   },
   "source": [
    "The choice mode=\"American Option\" indicates that the Longstaff-Schwartz recursion will only consider \"in-the-money\" paths, which was originally suggested by Longstaff & Schwartz, and is reasonable for non-negative payoffs. For general payoffs we can use mode = \"Standard\"."
   ]
  },
  {
   "cell_type": "code",
   "execution_count": 35,
   "id": "0889e9a8",
   "metadata": {
    "colab": {
     "base_uri": "https://localhost:8080/"
    },
    "id": "0889e9a8",
    "outputId": "8afb4b10-9708-46a7-f241-da85ac65ee99"
   },
   "outputs": [
    {
     "name": "stdout",
     "output_type": "stream",
     "text": [
      "Regression score at exercise date 13 0.9115377840307282\n",
      "Regression score at exercise date 12 0.8515875063488605\n",
      "Regression score at exercise date 11 0.8062383759404195\n",
      "Regression score at exercise date 10 0.755539971822289\n",
      "Regression score at exercise date 9 0.6970165609590369\n",
      "Regression score at exercise date 8 0.64781775230349\n",
      "Regression score at exercise date 7 0.5949917738082433\n",
      "Regression score at exercise date 6 0.5422815270461379\n",
      "Regression score at exercise date 5 0.4905739821727637\n",
      "Regression score at exercise date 4 0.4176305066908803\n",
      "Regression score at exercise date 3 0.33707859488420133\n",
      "Regression score at exercise date 2 0.23909997784641102\n",
      "Regression score at exercise date 1 0.13336249960477276\n"
     ]
    }
   ],
   "source": [
    "#compute true lower bounds\n",
    "lower_bound, lower_bound_std, ls_regression_models = ls_pricer.price(\n",
    "        signatures_training,\n",
    "        Payoff_training,\n",
    "        signatures_testing,\n",
    "        Payoff_testing\n",
    "    )"
   ]
  },
  {
   "cell_type": "code",
   "execution_count": 36,
   "id": "e64a34fa",
   "metadata": {
    "colab": {
     "base_uri": "https://localhost:8080/"
    },
    "id": "e64a34fa",
    "outputId": "b116657f-4c30-4379-dbfb-5aa71549133d"
   },
   "outputs": [
    {
     "name": "stdout",
     "output_type": "stream",
     "text": [
      "Linear Longstaff-Schwartz lower bound: 0.053620344280188206 ± 0.00012266509655457878\n"
     ]
    }
   ],
   "source": [
    "print(f\"Linear Longstaff-Schwartz lower bound: {lower_bound} ± {lower_bound_std/np.sqrt(M2)}\")"
   ]
  },
  {
   "cell_type": "markdown",
   "id": "676a51c2",
   "metadata": {
    "id": "676a51c2"
   },
   "source": [
    "Similarly let us derive the upper bounds, but we will train the model only for $M= 5000$ paths to reduce computation time, and then compute true prices for all testing samples."
   ]
  },
  {
   "cell_type": "code",
   "execution_count": 37,
   "id": "08fba8b2",
   "metadata": {
    "colab": {
     "base_uri": "https://localhost:8080/"
    },
    "id": "08fba8b2",
    "outputId": "710b6932-eb7b-4111-c511-20de6dd42eb6",
    "scrolled": true
   },
   "outputs": [
    {
     "name": "stdout",
     "output_type": "stream",
     "text": [
      "4.77 seconds needed to solve the linear program using CVXPY\n"
     ]
    }
   ],
   "source": [
    "M_dual = 5000\n",
    "upper_bound, upper_bound_std, MG = dual_pricer.price(\n",
    "        signatures_training[:M_dual],\n",
    "        Payoff_training[:M_dual],\n",
    "        dW_training[:M_dual,:,0],  # Select only the first component of the Brownian increments\n",
    "        signatures_testing,\n",
    "        Payoff_testing,\n",
    "        dW_testing[:,:,0]  # Select only the first component of the Brownian increments\n",
    "    )"
   ]
  },
  {
   "cell_type": "code",
   "execution_count": 38,
   "id": "39d591c8",
   "metadata": {
    "colab": {
     "base_uri": "https://localhost:8080/"
    },
    "id": "39d591c8",
    "outputId": "e078ca47-ef36-4133-d227-c6d2b88c391d"
   },
   "outputs": [
    {
     "name": "stdout",
     "output_type": "stream",
     "text": [
      "Linear Dual upper bound: 0.067181552774298 ± 1.469314494101849e-07\n",
      "Pricing interval: (0.053620344280188206, 0.067181552774298)± 0.00012266509655457878 \n"
     ]
    }
   ],
   "source": [
    "print(f\"Linear Dual upper bound: {upper_bound} ± {upper_bound_std/np.sqrt(M2)}\")\n",
    "print(f\"Pricing interval: {(float(lower_bound),float(upper_bound))}± {np.maximum(upper_bound_std,lower_bound_std)/np.sqrt(M2)} \")\n"
   ]
  },
  {
   "cell_type": "markdown",
   "id": "06ab12b0",
   "metadata": {
    "id": "06ab12b0"
   },
   "source": [
    "# Improving the duality gap\n"
   ]
  },
  {
   "cell_type": "markdown",
   "id": "hir98wJJXKE8",
   "metadata": {
    "id": "hir98wJJXKE8"
   },
   "source": [
    "Especially in rough regimes (here $H=0.1$), we observe a significant gap between lower and upper bounds, and in this section we present two ways to improve it. The first one still relies on linear signatures, but extends the basis as explained in in Section 4 of https://arxiv.org/abs/2312.03444."
   ]
  },
  {
   "cell_type": "markdown",
   "id": "4d7ea7df",
   "metadata": {
    "id": "4d7ea7df"
   },
   "source": [
    "## Part 1: Extending the linear basis"
   ]
  },
  {
   "cell_type": "markdown",
   "id": "beffb042",
   "metadata": {
    "id": "beffb042"
   },
   "source": [
    "We consider a more involved basis by choosing the extended signature lift of $(t,X_t,\\phi(X_t))$, and additionally add Laguerre polynomials of $(X_t,v_t)$. We can again use the SignatureComputer to compute this extended basis:"
   ]
  },
  {
   "cell_type": "code",
   "execution_count": 39,
   "id": "1eb54f12",
   "metadata": {
    "id": "1eb54f12"
   },
   "outputs": [],
   "source": [
    "sig_computer_extended = SignatureComputer(T, N, 3, \"linear\", signature_lift=\"payoff-and-polynomial-extended\", poly_degree=3)"
   ]
  },
  {
   "cell_type": "code",
   "execution_count": 40,
   "id": "33d6249a",
   "metadata": {
    "colab": {
     "base_uri": "https://localhost:8080/"
    },
    "id": "33d6249a",
    "outputId": "53179ca8-2f48-4b44-b1eb-99f3548c0900"
   },
   "outputs": [
    {
     "name": "stdout",
     "output_type": "stream",
     "text": [
      "Computing linear signature with payoff-and-polynomial-extended lift\n",
      "Computing linear signature with payoff-and-polynomial-extended lift\n"
     ]
    }
   ],
   "source": [
    "signatures_extended_training = sig_computer_extended.compute_signature(\n",
    "    S_training, vol_training, A_training, Payoff_training,\n",
    "    dW_training, I_training, MM_training\n",
    ")\n",
    "signatures_extended_testing = sig_computer_extended.compute_signature(\n",
    "    S_testing, vol_testing, A_testing, Payoff_testing,\n",
    "    dW_testing, I_testing, MM_testing\n",
    ")"
   ]
  },
  {
   "cell_type": "markdown",
   "id": "5zFWMoC-X-kM",
   "metadata": {
    "id": "5zFWMoC-X-kM"
   },
   "source": [
    "Now we repeat the procedure for the extended basis:"
   ]
  },
  {
   "cell_type": "code",
   "execution_count": 41,
   "id": "1c2d3960",
   "metadata": {
    "colab": {
     "base_uri": "https://localhost:8080/"
    },
    "collapsed": true,
    "id": "1c2d3960",
    "outputId": "009708e1-bce5-42b9-861f-3f437c5136e6"
   },
   "outputs": [
    {
     "name": "stdout",
     "output_type": "stream",
     "text": [
      "Regression score at exercise date 13 0.9120171195006237\n",
      "Regression score at exercise date 12 0.8691237773219215\n",
      "Regression score at exercise date 11 0.8261874387705715\n",
      "Regression score at exercise date 10 0.7812251922621689\n",
      "Regression score at exercise date 9 0.7228106216801085\n",
      "Regression score at exercise date 8 0.6753803972051351\n",
      "Regression score at exercise date 7 0.6239685161233455\n",
      "Regression score at exercise date 6 0.5812610789100479\n",
      "Regression score at exercise date 5 0.5235485839100782\n",
      "Regression score at exercise date 4 0.4482888724578813\n",
      "Regression score at exercise date 3 0.35927315779478464\n",
      "Regression score at exercise date 2 0.25179943871678845\n",
      "Regression score at exercise date 1 0.13809326678235068\n",
      "15.25 seconds needed to solve the linear program using CVXPY\n"
     ]
    }
   ],
   "source": [
    "\n",
    "#compute true lower bounds for the new basis\n",
    "lower_bound_extended, lower_bound_extended_std, ls_regression_models_extended = ls_pricer.price(\n",
    "        signatures_extended_training,\n",
    "        Payoff_training,\n",
    "        signatures_extended_testing,\n",
    "        Payoff_testing\n",
    "    )\n",
    "#Repeating the dual procedure for the new basis\n",
    "upper_bound_extended, upper_bound_extended_std, MG_extended = dual_pricer.price(\n",
    "        signatures_extended_training[:M_dual,:,:],\n",
    "        Payoff_training[:M_dual,:],\n",
    "        dW_training[:M_dual,:,0],  # select first component of Brownian increments\n",
    "        signatures_extended_testing,\n",
    "        Payoff_testing,\n",
    "        dW_testing[:,:,0]  # select first component of Brownian increments\n",
    "    )"
   ]
  },
  {
   "cell_type": "code",
   "execution_count": 42,
   "id": "692d7161",
   "metadata": {
    "colab": {
     "base_uri": "https://localhost:8080/"
    },
    "id": "692d7161",
    "outputId": "5811cd15-9104-4ec6-fb2a-31da9a47991c"
   },
   "outputs": [
    {
     "name": "stdout",
     "output_type": "stream",
     "text": [
      "Improve pricing interval: (0.05363693513009203, 0.06685287899878428)± 0.00012266509655457878 \n"
     ]
    }
   ],
   "source": [
    "print(f\"Improve pricing interval: {(float(lower_bound_extended),float(upper_bound_extended))}± {np.maximum(upper_bound_std,lower_bound_std)/np.sqrt(M2)} \")"
   ]
  },
  {
   "cell_type": "markdown",
   "id": "17b5c7df",
   "metadata": {
    "id": "17b5c7df"
   },
   "source": [
    "## Part 2: Deep log-signature optimal stopping"
   ]
  },
  {
   "cell_type": "markdown",
   "id": "b7e5f596",
   "metadata": {
    "id": "b7e5f596"
   },
   "source": [
    " In forthcoming work about \"American options in rough volatility models\", we will focus on more non-linear apporaches to price American options. More precisely, we extend the primal and dual procecdure by replacing linear functionals of the signature by deep neural networks on the log-signature $\\mathbb{L}=\\mathrm{log}^\\otimes(\\mathbb{X})$. This transformed version of the signature still captures the relevant information about the past of the underlying process, but grows much slower as the signature it self with respect to the truncation. Then, in order to learn highly non-linear functionals, such as the integrand of the Doob martingale (\"derivative of the Snell-envelope\"), we apply deep feedforward neural networks $\\theta$ on the log-signature. Of course, in both methods a optimization of the hyperparameters is required."
   ]
  },
  {
   "cell_type": "markdown",
   "id": "kTyO0IKtbYse",
   "metadata": {
    "id": "kTyO0IKtbYse"
   },
   "source": [
    "We proceed as before, but replace the linear signature by the log-signature"
   ]
  },
  {
   "cell_type": "code",
   "execution_count": 43,
   "id": "54699ea8",
   "metadata": {
    "id": "54699ea8"
   },
   "outputs": [],
   "source": [
    "sig_computer_log = SignatureComputer(T, N, 3, \"log\", signature_lift=\"polynomial-vol\", poly_degree=3)"
   ]
  },
  {
   "cell_type": "code",
   "execution_count": 44,
   "id": "e998aed9",
   "metadata": {
    "colab": {
     "base_uri": "https://localhost:8080/"
    },
    "id": "e998aed9",
    "outputId": "195d4128-74a3-4f42-a198-6310039f6c19"
   },
   "outputs": [
    {
     "name": "stdout",
     "output_type": "stream",
     "text": [
      "Computing log signature with polynomial-vol lift\n",
      "X shape: (131072, 15), vol shape: (131072, 15), A shape: (131072, 253)\n",
      "Using 15 time steps for log signature computation\n",
      "Computing log signature with polynomial-vol lift\n",
      "X shape: (131072, 15), vol shape: (131072, 15), A shape: (131072, 253)\n",
      "Using 15 time steps for log signature computation\n"
     ]
    }
   ],
   "source": [
    "log_signatures_training = sig_computer_log.compute_signature(\n",
    "    S_training, vol_training, A_training, Payoff_training,\n",
    "    dW_training[:,:,0], I_training, MM_training  # use first component\n",
    ")\n",
    "log_signatures_testing = sig_computer_log.compute_signature(\n",
    "    S_testing, vol_testing, A_testing, Payoff_testing,\n",
    "    dW_testing[:,:,0], I_testing, MM_testing  # use first component and correct I_testing\n",
    ")"
   ]
  },
  {
   "cell_type": "code",
   "execution_count": 45,
   "id": "bc7ff201",
   "metadata": {
    "id": "bc7ff201"
   },
   "outputs": [],
   "source": [
    "repo_root = os.path.abspath(\"..\")  # /Users/.../Optimal_Stopping_with_signatures\n",
    "ls_folder = os.path.join(repo_root, \"Non linear signature optimal stopping\")\n",
    "sys.path.extend([repo_root, ls_folder])\n",
    "from Deep_signatures_optimal_stopping import DeepLongstaffSchwartzPricer, DeepDualPricer"
   ]
  },
  {
   "cell_type": "code",
   "execution_count": 46,
   "id": "747bdf8e",
   "metadata": {},
   "outputs": [
    {
     "name": "stdout",
     "output_type": "stream",
     "text": [
      "Computing log signature with polynomial-vol lift\n",
      "X shape: (131072, 15), vol shape: (131072, 15), A shape: (131072, 253)\n",
      "Using 15 time steps for log signature computation\n",
      "Computing log signature with polynomial-vol lift\n",
      "X shape: (131072, 15), vol shape: (131072, 15), A shape: (131072, 253)\n",
      "Using 15 time steps for log signature computation\n",
      "shape of dW_training (131072, 14, 2)\n",
      "shape of dW_testing (131072, 14, 2)\n"
     ]
    }
   ],
   "source": [
    "log_signatures_training = sig_computer_log.compute_signature(\n",
    "    S_training, vol_training, A_training, Payoff_training,\n",
    "    dW_training[:,:,0], I_training, MM_training  # use first component\n",
    ")\n",
    "log_signatures_testing = sig_computer_log.compute_signature(\n",
    "    S_testing, vol_testing, A_testing, Payoff_testing,\n",
    "    dW_testing[:,:,0], I_testing, MM_testing  # use first component and correct I_testing\n",
    ")\n",
    "print(\"shape of dW_training\", dW_training.shape)\n",
    "print(\"shape of dW_testing\", dW_testing.shape)"
   ]
  },
  {
   "cell_type": "markdown",
   "id": "9a1d0eff",
   "metadata": {
    "id": "9a1d0eff"
   },
   "source": [
    "The DeepLongstaffSchwartzPricer generalizes the LinearLongstaffSchwartzPrices, where the Ridge Regression at each exercise date is replace by learning the conditional expectations via neural networks. In the following initialization we build a network with $3$ hidden layers and $16$ neurons each, between each hidden layer we apply the activation function $\\mathrm{tanh}(x)$. The remainding parameters are set to 'False'. (One can run the 'Hyperparameter_optimization_primal.py' file to optimize the choice of hyperparameters)"
   ]
  },
  {
   "cell_type": "code",
   "execution_count": 47,
   "id": "b2da432f",
   "metadata": {
    "id": "b2da432f"
   },
   "outputs": [
    {
     "name": "stdout",
     "output_type": "stream",
     "text": [
      "Regression at exercise date 13\n",
      "Epoch 1/15\n",
      "402/402 [==============================] - 2s 5ms/step - loss: 0.0068 - mae: 0.0381\n",
      "Epoch 2/15\n",
      "402/402 [==============================] - 2s 4ms/step - loss: 3.5770e-04 - mae: 0.0123\n",
      "Epoch 3/15\n",
      "402/402 [==============================] - 2s 4ms/step - loss: 3.4104e-04 - mae: 0.0117\n",
      "Epoch 4/15\n",
      "402/402 [==============================] - 2s 4ms/step - loss: 3.3886e-04 - mae: 0.0117\n",
      "Epoch 5/15\n",
      "402/402 [==============================] - 2s 4ms/step - loss: 3.3928e-04 - mae: 0.0117\n",
      "Epoch 6/15\n",
      "402/402 [==============================] - 2s 4ms/step - loss: 3.3773e-04 - mae: 0.0117\n",
      "Epoch 7/15\n",
      "402/402 [==============================] - 2s 4ms/step - loss: 3.3759e-04 - mae: 0.0117\n",
      "Epoch 8/15\n",
      "402/402 [==============================] - 2s 4ms/step - loss: 3.3876e-04 - mae: 0.0117\n",
      "Epoch 9/15\n",
      "402/402 [==============================] - 2s 4ms/step - loss: 3.3968e-04 - mae: 0.0118\n",
      "Epoch 10/15\n",
      "402/402 [==============================] - 2s 4ms/step - loss: 3.3925e-04 - mae: 0.0118\n",
      "Epoch 11/15\n",
      "402/402 [==============================] - 2s 4ms/step - loss: 3.3946e-04 - mae: 0.0118\n",
      "Epoch 12/15\n",
      "402/402 [==============================] - 2s 4ms/step - loss: 3.3906e-04 - mae: 0.0118\n",
      "3215/3215 [==============================] - 2s 626us/step\n",
      "Regression at exercise date 12\n",
      "410/410 [==============================] - 2s 4ms/step - loss: 3.8214e-04 - mae: 0.0123\n",
      "3274/3274 [==============================] - 2s 634us/step\n",
      "Regression at exercise date 11\n",
      "418/418 [==============================] - 2s 4ms/step - loss: 5.9546e-04 - mae: 0.0152\n",
      "3339/3339 [==============================] - 2s 636us/step\n",
      "Regression at exercise date 10\n",
      "426/426 [==============================] - 2s 4ms/step - loss: 5.5621e-04 - mae: 0.0159\n",
      "3402/3402 [==============================] - 2s 644us/step\n",
      "Regression at exercise date 9\n",
      "434/434 [==============================] - 2s 5ms/step - loss: 8.5607e-04 - mae: 0.0204\n",
      "3472/3472 [==============================] - 2s 647us/step\n",
      "Regression at exercise date 8\n",
      "445/445 [==============================] - 2s 4ms/step - loss: 0.0010 - mae: 0.0228\n",
      "3553/3553 [==============================] - 2s 645us/step\n",
      "Regression at exercise date 7\n",
      "454/454 [==============================] - 2s 4ms/step - loss: 0.0013 - mae: 0.0262\n",
      "3630/3630 [==============================] - 2s 646us/step\n",
      "Regression at exercise date 6\n",
      "464/464 [==============================] - 2s 4ms/step - loss: 0.0015 - mae: 0.0287\n",
      "3707/3707 [==============================] - 2s 646us/step\n",
      "Regression at exercise date 5\n",
      "475/475 [==============================] - 2s 4ms/step - loss: 5.7389e-04 - mae: 0.0142\n",
      "3795/3795 [==============================] - 3s 664us/step\n",
      "Regression at exercise date 4\n",
      "485/485 [==============================] - 2s 4ms/step - loss: 3.3781e-04 - mae: 0.0120\n",
      "3877/3877 [==============================] - 3s 643us/step\n",
      "Regression at exercise date 3\n",
      "495/495 [==============================] - 2s 4ms/step - loss: 6.3937e-04 - mae: 0.0175\n",
      "3956/3956 [==============================] - 3s 663us/step\n",
      "Regression at exercise date 2\n",
      "504/504 [==============================] - 2s 4ms/step - loss: 6.0845e-04 - mae: 0.0180\n",
      "4026/4026 [==============================] - 3s 651us/step\n",
      "Regression at exercise date 1\n",
      "510/510 [==============================] - 2s 4ms/step - loss: 3.3073e-04 - mae: 0.0123\n",
      "4076/4076 [==============================] - 3s 653us/step\n",
      "4096/4096 [==============================] - 3s 656us/step\n",
      "4096/4096 [==============================] - 3s 648us/step\n",
      "4096/4096 [==============================] - 3s 678us/step\n",
      "4096/4096 [==============================] - 3s 644us/step\n",
      "4096/4096 [==============================] - 3s 646us/step\n",
      "4096/4096 [==============================] - 3s 746us/step\n",
      "4096/4096 [==============================] - 3s 651us/step\n",
      "4096/4096 [==============================] - 3s 662us/step\n",
      "4096/4096 [==============================] - 3s 647us/step\n",
      "4096/4096 [==============================] - 3s 657us/step\n",
      "4096/4096 [==============================] - 3s 654us/step\n",
      "4096/4096 [==============================] - 3s 654us/step\n",
      "4096/4096 [==============================] - 3s 659us/step\n",
      "Signature data shape: (131072, 15, 8)\n",
      "Payoff data shape: (131072, 15)\n",
      "dW data shape: (131072, 14)\n",
      "Using 14 time steps instead of 252 for model building\n",
      "Using indices: [0, 1, 2, 3, 4, 5, 6, 7, 8, 9, 10, 11, 12, 13] for 14 exercise dates\n",
      "Using indices: [0, 1, 2, 3, 4, 5, 6, 7, 8, 9, 10, 11, 12, 13] for 14 exercise dates\n",
      "Model expects Payoff shape: (batch_size, 14)\n",
      "Trimmed Payoff shape: (131072, 14)\n",
      "Epoch 1/15\n",
      "461/461 [==============================] - 3s 7ms/step - loss: 0.0827 - val_loss: 0.0823\n",
      "Epoch 2/15\n",
      "461/461 [==============================] - 3s 7ms/step - loss: 0.0823 - val_loss: 0.0822\n",
      "Epoch 3/15\n",
      "461/461 [==============================] - 3s 7ms/step - loss: 0.0823 - val_loss: 0.0822\n",
      "Epoch 4/15\n",
      "461/461 [==============================] - 3s 7ms/step - loss: 0.0822 - val_loss: 0.0821\n",
      "Epoch 5/15\n",
      "461/461 [==============================] - 3s 8ms/step - loss: 0.0822 - val_loss: 0.0822\n",
      "Epoch 6/15\n",
      "461/461 [==============================] - 3s 8ms/step - loss: 0.0822 - val_loss: 0.0821\n",
      "Epoch 7/15\n",
      "461/461 [==============================] - 3s 8ms/step - loss: 0.0821 - val_loss: 0.0823\n",
      "Epoch 8/15\n",
      "461/461 [==============================] - 3s 7ms/step - loss: 0.0821 - val_loss: 0.0820\n",
      "Epoch 9/15\n",
      "461/461 [==============================] - 3s 8ms/step - loss: 0.0821 - val_loss: 0.0820\n",
      "Epoch 10/15\n",
      "461/461 [==============================] - 3s 8ms/step - loss: 0.0821 - val_loss: 0.0821\n",
      "Epoch 11/15\n",
      "461/461 [==============================] - 3s 7ms/step - loss: 0.0821 - val_loss: 0.0823\n",
      "Epoch 12/15\n",
      "461/461 [==============================] - 3s 7ms/step - loss: 0.0821 - val_loss: 0.0821\n",
      "Epoch 13/15\n",
      "461/461 [==============================] - 3s 7ms/step - loss: 0.0821 - val_loss: 0.0820\n",
      "Epoch 14/15\n",
      "461/461 [==============================] - 3s 8ms/step - loss: 0.0821 - val_loss: 0.0822\n",
      "Epoch 15/15\n",
      "461/461 [==============================] - 4s 8ms/step - loss: 0.0821 - val_loss: 0.0821\n",
      "4096/4096 [==============================] - 8s 2ms/step\n",
      "4096/4096 [==============================] - 7s 2ms/step\n",
      "MG shape: (131072, 14)\n",
      "MG with zeros shape: (131072, 15)\n"
     ]
    }
   ],
   "source": [
    "ls_pricer = DeepLongstaffSchwartzPricer(\n",
    "    N1=N1,\n",
    "    T=T_years,\n",
    "    r=r,\n",
    "    mode=\"American Option\",\n",
    "    layers=3,\n",
    "    nodes=16,\n",
    "    activation_function='tanh',\n",
    "    batch_normalization=False,\n",
    "    regularizer=0.0,  # This is correct as float\n",
    "    dropout=False,\n",
    "    layer_normalization=False\n",
    ")\n",
    "\n",
    "dual_pricer = DeepDualPricer(\n",
    "    N1=N1,\n",
    "    N=N,\n",
    "    T=T_years,\n",
    "    r=r,\n",
    "    layers=3,\n",
    "    nodes=16,\n",
    "    activation_function='relu',\n",
    "    batch_normalization=False,\n",
    "    regularizer=0.0,  # ERROR: should be float, not boolean\n",
    "    dropout=False,\n",
    "    attention_layer=False,\n",
    "    layer_normalization=False\n",
    ")\n",
    "# LS pricer call is correct\n",
    "lower_bound_deep, lower_bound_deep_std, ls_regression_models = ls_pricer.price(\n",
    "    log_signatures_training,\n",
    "    Payoff_training,\n",
    "    log_signatures_testing,\n",
    "    Payoff_testing,\n",
    "    M_val=0,\n",
    "    batch=2**8,\n",
    "    epochs=15,\n",
    "    learning_rate=0.001\n",
    ")\n",
    "\n",
    "# Dual pricer call is correct\n",
    "y0, upper_bound_deep, upper_bound_deep_std, dual_model, dual_rule_model = dual_pricer.price(\n",
    "    log_signatures_training,\n",
    "    Payoff_training,\n",
    "    dW_training[:,:,0],  # use only first component of Brownian increments\n",
    "    log_signatures_testing,\n",
    "    Payoff_testing,\n",
    "    dW_testing[:,:,0],  # use only first component of Brownian increments\n",
    "    M_val=int(0.9*M),\n",
    "    batch=2**8,\n",
    "    epochs=15,\n",
    "    learning_rate=0.01\n",
    ")"
   ]
  },
  {
   "cell_type": "markdown",
   "id": "9jX2tyIWchsd",
   "metadata": {
    "id": "9jX2tyIWchsd"
   },
   "source": [
    "Similarly for the dual problem, we consider the same network but use the $relu(x)$ activation instead."
   ]
  },
  {
   "cell_type": "code",
   "execution_count": 48,
   "id": "186917ea",
   "metadata": {
    "id": "186917ea"
   },
   "outputs": [],
   "source": [
    "# Consistent parameter usage for validation set size\n",
    "M_val_percentage = 0.9"
   ]
  },
  {
   "cell_type": "markdown",
   "id": "cDQUUvN_c6wl",
   "metadata": {
    "id": "cDQUUvN_c6wl"
   },
   "source": [
    "The Deep Longstaff Schwartz uses $15$ epochs for at the last exercise date, and then one epochs at the remainding ones by initiliazing smartly. The learning rate for the Stochastic Gradient Descent is choosen as $0.001$, and we use batch sizes of $2^8$."
   ]
  },
  {
   "cell_type": "code",
   "execution_count": 49,
   "id": "d04e9ff6",
   "metadata": {
    "id": "d04e9ff6",
    "outputId": "8fd83460-c4c2-40ca-8718-2b02f3227db5"
   },
   "outputs": [
    {
     "name": "stdout",
     "output_type": "stream",
     "text": [
      "Deep Longstaff-Schwartz lower bound: 0.05005361095340205 ± 7.127670084829288e-05\n"
     ]
    }
   ],
   "source": [
    "print(f\"Deep Longstaff-Schwartz lower bound: {lower_bound_deep} ± {lower_bound_deep_std/np.sqrt(M2)}\")"
   ]
  },
  {
   "cell_type": "code",
   "execution_count": 50,
   "id": "RsfNfQyIebJD",
   "metadata": {
    "colab": {
     "base_uri": "https://localhost:8080/"
    },
    "id": "RsfNfQyIebJD",
    "outputId": "7fa5e436-d332-4232-c5e7-1a2784f5d8f4"
   },
   "outputs": [
    {
     "name": "stdout",
     "output_type": "stream",
     "text": [
      "Deep Dual upper bound: 0.0715030415031311 ± 6.832770578573121e-05\n",
      "Pricing interval: (0.05005361095340205, 0.0715030415031311)± 7.127670084829288e-05 \n"
     ]
    }
   ],
   "source": [
    "print(f\"Deep Dual upper bound: {upper_bound_deep} ± {upper_bound_deep_std/np.sqrt(M2)}\")\n",
    "print(f\"Pricing interval: {(lower_bound_deep,upper_bound_deep)}± {np.maximum(upper_bound_deep_std,lower_bound_deep_std)/np.sqrt(M2)} \")"
   ]
  },
  {
   "cell_type": "code",
   "execution_count": 51,
   "id": "bd49d139",
   "metadata": {},
   "outputs": [],
   "source": [
    "repo_root = os.path.abspath(\"..\")  # /Users/.../Optimal_Stopping_with_signatures\n",
    "ls_folder = os.path.join(repo_root, \"Non linear signature optimal stopping\")\n",
    "sys.path.extend([repo_root, ls_folder])\n",
    "from Deep_kernel_signature_optimal_stopping import DeepKernelLongstaffSchwartzPricer, DeepKernelDualPricer\n"
   ]
  },
  {
   "cell_type": "code",
   "execution_count": 52,
   "id": "96187943",
   "metadata": {},
   "outputs": [],
   "source": [
    "# Cell 1: Define the RFF feature computation functions with corrected implementation\n",
    "\n",
    "def compute_rff_kernel_features(signatures, N1, rff_dim=128, gamma=1.0):\n",
    "    \"\"\"\n",
    "    Compute Random Fourier Features for lower bound pricer (list format)\n",
    "    \n",
    "    Args:\n",
    "        signatures: Signature data with shape [M, T_steps, feature_dim]\n",
    "        N1: Number of exercise dates\n",
    "        rff_dim: Dimension of random features (default: 128)\n",
    "        gamma: RBF kernel bandwidth parameter (default: 1.0)\n",
    "    \n",
    "    Returns:\n",
    "        List of tensors with shape [M, rff_dim*2, 1] for each exercise date\n",
    "    \"\"\"\n",
    "    M, T_steps, feature_dim = signatures.shape\n",
    "    \n",
    "    # Calculate indices based on actual data dimensions\n",
    "    actual_steps = T_steps - 1\n",
    "    subindex = [min(int((j+1)*actual_steps/N1), actual_steps) for j in range(N1)]\n",
    "    \n",
    "    print(f\"Signature data has {T_steps} time points\")\n",
    "    print(f\"Using exercise indices: {subindex}\")\n",
    "    \n",
    "    # Create list to hold RFF features for each exercise date\n",
    "    rff_features_list = []\n",
    "    \n",
    "    # For each exercise date\n",
    "    for t in range(len(subindex)):\n",
    "        idx = min(subindex[t], T_steps-1)\n",
    "        X_t = signatures[:, idx, :]\n",
    "        \n",
    "        # Generate random projection matrix for RBF kernel approximation\n",
    "        np.random.seed(42 + t)  # Different seed for each exercise date\n",
    "        W = np.random.normal(0, np.sqrt(2*gamma), (feature_dim, rff_dim))\n",
    "        \n",
    "        # Compute RFF: [cos(Wx), sin(Wx)]\n",
    "        projection = X_t @ W\n",
    "        rff_features = np.column_stack([\n",
    "            np.cos(projection),\n",
    "            np.sin(projection)\n",
    "        ]) * np.sqrt(1/rff_dim)\n",
    "        \n",
    "        # Reshape to match expected format: [M, rff_dim*2, 1]\n",
    "        rff_features = rff_features.reshape(M, rff_dim*2, 1)\n",
    "        \n",
    "        rff_features_list.append(rff_features)\n",
    "    \n",
    "    return rff_features_list\n",
    "\n",
    "def compute_rff_kernel_features_dual(signatures, N, N1, rff_dim=128, gamma=1.0):\n",
    "    \"\"\"\n",
    "    Compute Random Fourier Features for dual pricer (3D tensor format)\n",
    "    \n",
    "    Args:\n",
    "        signatures: Signature data with shape [M, T_steps, feature_dim]\n",
    "        N: Number of time steps in the discretization\n",
    "        N1: Number of exercise dates\n",
    "        rff_dim: Dimension of random features (default: 128)\n",
    "        gamma: RBF kernel bandwidth parameter (default: 1.0)\n",
    "    \n",
    "    Returns:\n",
    "        Tensor with shape [M, features, time] for all time points\n",
    "    \"\"\"\n",
    "    M, T_steps, feature_dim = signatures.shape\n",
    "    \n",
    "    # Calculate indices proportional to exercise dates\n",
    "    # We need to map our exercise indices to the full discretization grid\n",
    "    actual_steps = min(T_steps - 1, N)\n",
    "    all_indices = np.minimum(np.array([int(t * T_steps / (N+1)) for t in range(N+1)]), T_steps-1)\n",
    "    \n",
    "    print(f\"Using exercise indices for dual pricer: {all_indices[:5]}...{all_indices[-5:]}\")\n",
    "    \n",
    "    # Generate random projection matrix once\n",
    "    np.random.seed(42)\n",
    "    W = np.random.normal(0, np.sqrt(2*gamma), (feature_dim, rff_dim))\n",
    "    \n",
    "    # Extract all required signature data at once\n",
    "    X_all = signatures[:, all_indices, :]  # Shape: [M, N+1, feature_dim]\n",
    "    \n",
    "    # Reshape for batch matrix multiplication\n",
    "    X_reshaped = X_all.reshape(-1, feature_dim)  # Shape: [M*(N+1), feature_dim]\n",
    "    \n",
    "    # Compute all projections at once\n",
    "    projections = X_reshaped @ W  # Shape: [M*(N+1), rff_dim]\n",
    "    \n",
    "    # Compute RFF features\n",
    "    cos_features = np.cos(projections)\n",
    "    sin_features = np.sin(projections)\n",
    "    rff_features = np.column_stack([cos_features, sin_features]) * np.sqrt(1/rff_dim)\n",
    "    \n",
    "    # Reshape back to original dimensions\n",
    "    full_rff = rff_features.reshape(M, N+1, rff_dim*2)\n",
    "    \n",
    "    # Transpose to match expected format: [M, features, time]\n",
    "    return np.transpose(full_rff, (0, 2, 1))"
   ]
  },
  {
   "cell_type": "code",
   "execution_count": 53,
   "id": "565afbf4",
   "metadata": {},
   "outputs": [
    {
     "name": "stdout",
     "output_type": "stream",
     "text": [
      "Computing kernel features for lower bound...\n",
      "Signature data has 15 time points\n",
      "Using exercise indices: [1, 2, 3, 4, 5, 6, 7, 8, 9, 10, 11, 12, 13, 14]\n",
      "Signature data has 15 time points\n",
      "Using exercise indices: [1, 2, 3, 4, 5, 6, 7, 8, 9, 10, 11, 12, 13, 14]\n",
      "Computing kernel features for upper bound...\n",
      "Using exercise indices for dual pricer: [0 1 2 3 4]...[10 11 12 13 14]\n",
      "Using exercise indices for dual pricer: [0 1 2 3 4]...[10 11 12 13 14]\n",
      "Computing kernel-based lower bound...\n",
      "Model: \"sequential_13\"\n",
      "_________________________________________________________________\n",
      " Layer (type)                Output Shape              Param #   \n",
      "=================================================================\n",
      " batch_normalization (Batch  (None, 128)               512       \n",
      " Normalization)                                                  \n",
      "                                                                 \n",
      " layer_normalization (Layer  (None, 128)               256       \n",
      " Normalization)                                                  \n",
      "                                                                 \n",
      " dense_60 (Dense)            (None, 32)                4128      \n",
      "                                                                 \n",
      " layer_normalization_1 (Lay  (None, 32)                64        \n",
      " erNormalization)                                                \n",
      "                                                                 \n",
      " layer_normalization_2 (Lay  (None, 32)                64        \n",
      " erNormalization)                                                \n",
      "                                                                 \n",
      " dense_61 (Dense)            (None, 32)                1056      \n",
      "                                                                 \n",
      " layer_normalization_3 (Lay  (None, 32)                64        \n",
      " erNormalization)                                                \n",
      "                                                                 \n",
      " layer_normalization_4 (Lay  (None, 32)                64        \n",
      " erNormalization)                                                \n",
      "                                                                 \n",
      " dense_62 (Dense)            (None, 32)                1056      \n",
      "                                                                 \n",
      " layer_normalization_5 (Lay  (None, 32)                64        \n",
      " erNormalization)                                                \n",
      "                                                                 \n",
      " dense_63 (Dense)            (None, 1)                 33        \n",
      "                                                                 \n",
      "=================================================================\n",
      "Total params: 7361 (28.75 KB)\n",
      "Trainable params: 7105 (27.75 KB)\n",
      "Non-trainable params: 256 (1.00 KB)\n",
      "_________________________________________________________________\n",
      "Regression at exercise date 13\n",
      "Epoch 1/15\n",
      "402/402 [==============================] - 6s 14ms/step - loss: 0.1403 - r2_score: -6.9413\n",
      "Epoch 2/15\n",
      "402/402 [==============================] - 5s 12ms/step - loss: 0.1032 - r2_score: 0.2170\n",
      "Epoch 3/15\n",
      "402/402 [==============================] - 5s 12ms/step - loss: 0.0891 - r2_score: 0.5293\n",
      "Epoch 4/15\n",
      "402/402 [==============================] - 5s 12ms/step - loss: 0.0754 - r2_score: 0.6532\n",
      "Epoch 5/15\n",
      "402/402 [==============================] - 6s 14ms/step - loss: 0.0626 - r2_score: 0.7189\n",
      "Epoch 6/15\n",
      "402/402 [==============================] - 5s 13ms/step - loss: 0.0510 - r2_score: 0.7600\n",
      "Epoch 7/15\n",
      "402/402 [==============================] - 5s 12ms/step - loss: 0.0408 - r2_score: 0.7929\n",
      "Epoch 8/15\n",
      "402/402 [==============================] - 5s 12ms/step - loss: 0.0321 - r2_score: 0.8001\n",
      "Epoch 9/15\n",
      "402/402 [==============================] - 5s 12ms/step - loss: 0.0249 - r2_score: 0.8251\n",
      "Epoch 10/15\n",
      "402/402 [==============================] - 6s 14ms/step - loss: 0.0191 - r2_score: 0.8363\n",
      "Epoch 11/15\n",
      "402/402 [==============================] - 5s 12ms/step - loss: 0.0144 - r2_score: 0.8543\n",
      "Epoch 12/15\n",
      "402/402 [==============================] - 5s 13ms/step - loss: 0.0108 - r2_score: 0.8606\n",
      "Epoch 13/15\n",
      "402/402 [==============================] - 5s 12ms/step - loss: 0.0080 - r2_score: 0.8657\n",
      "Epoch 14/15\n",
      "402/402 [==============================] - 5s 12ms/step - loss: 0.0060 - r2_score: 0.8726\n",
      "Epoch 15/15\n",
      "402/402 [==============================] - 5s 13ms/step - loss: 0.0045 - r2_score: 0.8691\n",
      "3215/3215 [==============================] - 9s 3ms/step\n",
      "Model: \"sequential_14\"\n",
      "_________________________________________________________________\n",
      " Layer (type)                Output Shape              Param #   \n",
      "=================================================================\n",
      " batch_normalization_1 (Bat  (None, 128)               512       \n",
      " chNormalization)                                                \n",
      "                                                                 \n",
      " layer_normalization_6 (Lay  (None, 128)               256       \n",
      " erNormalization)                                                \n",
      "                                                                 \n",
      " dense_64 (Dense)            (None, 32)                4128      \n",
      "                                                                 \n",
      " layer_normalization_7 (Lay  (None, 32)                64        \n",
      " erNormalization)                                                \n",
      "                                                                 \n",
      " layer_normalization_8 (Lay  (None, 32)                64        \n",
      " erNormalization)                                                \n",
      "                                                                 \n",
      " dense_65 (Dense)            (None, 32)                1056      \n",
      "                                                                 \n",
      " layer_normalization_9 (Lay  (None, 32)                64        \n",
      " erNormalization)                                                \n",
      "                                                                 \n",
      " layer_normalization_10 (La  (None, 32)                64        \n",
      " yerNormalization)                                               \n",
      "                                                                 \n",
      " dense_66 (Dense)            (None, 32)                1056      \n",
      "                                                                 \n",
      " layer_normalization_11 (La  (None, 32)                64        \n",
      " yerNormalization)                                               \n",
      "                                                                 \n",
      " dense_67 (Dense)            (None, 1)                 33        \n",
      "                                                                 \n",
      "=================================================================\n",
      "Total params: 7361 (28.75 KB)\n",
      "Trainable params: 7105 (27.75 KB)\n",
      "Non-trainable params: 256 (1.00 KB)\n",
      "_________________________________________________________________\n",
      "Regression at exercise date 12\n",
      "410/410 [==============================] - 5s 12ms/step - loss: 0.0045 - r2_score: 0.6614\n",
      "3274/3274 [==============================] - 9s 3ms/step\n",
      "Model: \"sequential_15\"\n",
      "_________________________________________________________________\n",
      " Layer (type)                Output Shape              Param #   \n",
      "=================================================================\n",
      " batch_normalization_2 (Bat  (None, 128)               512       \n",
      " chNormalization)                                                \n",
      "                                                                 \n",
      " layer_normalization_12 (La  (None, 128)               256       \n",
      " yerNormalization)                                               \n",
      "                                                                 \n",
      " dense_68 (Dense)            (None, 32)                4128      \n",
      "                                                                 \n",
      " layer_normalization_13 (La  (None, 32)                64        \n",
      " yerNormalization)                                               \n",
      "                                                                 \n",
      " layer_normalization_14 (La  (None, 32)                64        \n",
      " yerNormalization)                                               \n",
      "                                                                 \n",
      " dense_69 (Dense)            (None, 32)                1056      \n",
      "                                                                 \n",
      " layer_normalization_15 (La  (None, 32)                64        \n",
      " yerNormalization)                                               \n",
      "                                                                 \n",
      " layer_normalization_16 (La  (None, 32)                64        \n",
      " yerNormalization)                                               \n",
      "                                                                 \n",
      " dense_70 (Dense)            (None, 32)                1056      \n",
      "                                                                 \n",
      " layer_normalization_17 (La  (None, 32)                64        \n",
      " yerNormalization)                                               \n",
      "                                                                 \n",
      " dense_71 (Dense)            (None, 1)                 33        \n",
      "                                                                 \n",
      "=================================================================\n",
      "Total params: 7361 (28.75 KB)\n",
      "Trainable params: 7105 (27.75 KB)\n",
      "Non-trainable params: 256 (1.00 KB)\n",
      "_________________________________________________________________\n",
      "Regression at exercise date 11\n",
      "418/418 [==============================] - 5s 13ms/step - loss: 0.0033 - r2_score: 0.7865\n",
      "3339/3339 [==============================] - 9s 3ms/step\n",
      "Model: \"sequential_16\"\n",
      "_________________________________________________________________\n",
      " Layer (type)                Output Shape              Param #   \n",
      "=================================================================\n",
      " batch_normalization_3 (Bat  (None, 128)               512       \n",
      " chNormalization)                                                \n",
      "                                                                 \n",
      " layer_normalization_18 (La  (None, 128)               256       \n",
      " yerNormalization)                                               \n",
      "                                                                 \n",
      " dense_72 (Dense)            (None, 32)                4128      \n",
      "                                                                 \n",
      " layer_normalization_19 (La  (None, 32)                64        \n",
      " yerNormalization)                                               \n",
      "                                                                 \n",
      " layer_normalization_20 (La  (None, 32)                64        \n",
      " yerNormalization)                                               \n",
      "                                                                 \n",
      " dense_73 (Dense)            (None, 32)                1056      \n",
      "                                                                 \n",
      " layer_normalization_21 (La  (None, 32)                64        \n",
      " yerNormalization)                                               \n",
      "                                                                 \n",
      " layer_normalization_22 (La  (None, 32)                64        \n",
      " yerNormalization)                                               \n",
      "                                                                 \n",
      " dense_74 (Dense)            (None, 32)                1056      \n",
      "                                                                 \n",
      " layer_normalization_23 (La  (None, 32)                64        \n",
      " yerNormalization)                                               \n",
      "                                                                 \n",
      " dense_75 (Dense)            (None, 1)                 33        \n",
      "                                                                 \n",
      "=================================================================\n",
      "Total params: 7361 (28.75 KB)\n",
      "Trainable params: 7105 (27.75 KB)\n",
      "Non-trainable params: 256 (1.00 KB)\n",
      "_________________________________________________________________\n",
      "Regression at exercise date 10\n",
      "426/426 [==============================] - 5s 12ms/step - loss: 0.0026 - r2_score: 0.8050\n",
      "3402/3402 [==============================] - 9s 3ms/step\n",
      "Model: \"sequential_17\"\n",
      "_________________________________________________________________\n",
      " Layer (type)                Output Shape              Param #   \n",
      "=================================================================\n",
      " batch_normalization_4 (Bat  (None, 128)               512       \n",
      " chNormalization)                                                \n",
      "                                                                 \n",
      " layer_normalization_24 (La  (None, 128)               256       \n",
      " yerNormalization)                                               \n",
      "                                                                 \n",
      " dense_76 (Dense)            (None, 32)                4128      \n",
      "                                                                 \n",
      " layer_normalization_25 (La  (None, 32)                64        \n",
      " yerNormalization)                                               \n",
      "                                                                 \n",
      " layer_normalization_26 (La  (None, 32)                64        \n",
      " yerNormalization)                                               \n",
      "                                                                 \n",
      " dense_77 (Dense)            (None, 32)                1056      \n",
      "                                                                 \n",
      " layer_normalization_27 (La  (None, 32)                64        \n",
      " yerNormalization)                                               \n",
      "                                                                 \n",
      " layer_normalization_28 (La  (None, 32)                64        \n",
      " yerNormalization)                                               \n",
      "                                                                 \n",
      " dense_78 (Dense)            (None, 32)                1056      \n",
      "                                                                 \n",
      " layer_normalization_29 (La  (None, 32)                64        \n",
      " yerNormalization)                                               \n",
      "                                                                 \n",
      " dense_79 (Dense)            (None, 1)                 33        \n",
      "                                                                 \n",
      "=================================================================\n",
      "Total params: 7361 (28.75 KB)\n",
      "Trainable params: 7105 (27.75 KB)\n",
      "Non-trainable params: 256 (1.00 KB)\n",
      "_________________________________________________________________\n",
      "Regression at exercise date 9\n",
      "434/434 [==============================] - 5s 13ms/step - loss: 0.0024 - r2_score: 0.7097\n",
      "3472/3472 [==============================] - 9s 3ms/step\n",
      "Model: \"sequential_18\"\n",
      "_________________________________________________________________\n",
      " Layer (type)                Output Shape              Param #   \n",
      "=================================================================\n",
      " batch_normalization_5 (Bat  (None, 128)               512       \n",
      " chNormalization)                                                \n",
      "                                                                 \n",
      " layer_normalization_30 (La  (None, 128)               256       \n",
      " yerNormalization)                                               \n",
      "                                                                 \n",
      " dense_80 (Dense)            (None, 32)                4128      \n",
      "                                                                 \n",
      " layer_normalization_31 (La  (None, 32)                64        \n",
      " yerNormalization)                                               \n",
      "                                                                 \n",
      " layer_normalization_32 (La  (None, 32)                64        \n",
      " yerNormalization)                                               \n",
      "                                                                 \n",
      " dense_81 (Dense)            (None, 32)                1056      \n",
      "                                                                 \n",
      " layer_normalization_33 (La  (None, 32)                64        \n",
      " yerNormalization)                                               \n",
      "                                                                 \n",
      " layer_normalization_34 (La  (None, 32)                64        \n",
      " yerNormalization)                                               \n",
      "                                                                 \n",
      " dense_82 (Dense)            (None, 32)                1056      \n",
      "                                                                 \n",
      " layer_normalization_35 (La  (None, 32)                64        \n",
      " yerNormalization)                                               \n",
      "                                                                 \n",
      " dense_83 (Dense)            (None, 1)                 33        \n",
      "                                                                 \n",
      "=================================================================\n",
      "Total params: 7361 (28.75 KB)\n",
      "Trainable params: 7105 (27.75 KB)\n",
      "Non-trainable params: 256 (1.00 KB)\n",
      "_________________________________________________________________\n",
      "Regression at exercise date 8\n",
      "445/445 [==============================] - 6s 13ms/step - loss: 0.0019 - r2_score: 0.7613\n",
      "3553/3553 [==============================] - 11s 3ms/step\n",
      "Model: \"sequential_19\"\n",
      "_________________________________________________________________\n",
      " Layer (type)                Output Shape              Param #   \n",
      "=================================================================\n",
      " batch_normalization_6 (Bat  (None, 128)               512       \n",
      " chNormalization)                                                \n",
      "                                                                 \n",
      " layer_normalization_36 (La  (None, 128)               256       \n",
      " yerNormalization)                                               \n",
      "                                                                 \n",
      " dense_84 (Dense)            (None, 32)                4128      \n",
      "                                                                 \n",
      " layer_normalization_37 (La  (None, 32)                64        \n",
      " yerNormalization)                                               \n",
      "                                                                 \n",
      " layer_normalization_38 (La  (None, 32)                64        \n",
      " yerNormalization)                                               \n",
      "                                                                 \n",
      " dense_85 (Dense)            (None, 32)                1056      \n",
      "                                                                 \n",
      " layer_normalization_39 (La  (None, 32)                64        \n",
      " yerNormalization)                                               \n",
      "                                                                 \n",
      " layer_normalization_40 (La  (None, 32)                64        \n",
      " yerNormalization)                                               \n",
      "                                                                 \n",
      " dense_86 (Dense)            (None, 32)                1056      \n",
      "                                                                 \n",
      " layer_normalization_41 (La  (None, 32)                64        \n",
      " yerNormalization)                                               \n",
      "                                                                 \n",
      " dense_87 (Dense)            (None, 1)                 33        \n",
      "                                                                 \n",
      "=================================================================\n",
      "Total params: 7361 (28.75 KB)\n",
      "Trainable params: 7105 (27.75 KB)\n",
      "Non-trainable params: 256 (1.00 KB)\n",
      "_________________________________________________________________\n",
      "Regression at exercise date 7\n",
      "454/454 [==============================] - 6s 13ms/step - loss: 0.0019 - r2_score: 0.6657\n",
      "3630/3630 [==============================] - 10s 3ms/step\n",
      "Model: \"sequential_20\"\n",
      "_________________________________________________________________\n",
      " Layer (type)                Output Shape              Param #   \n",
      "=================================================================\n",
      " batch_normalization_7 (Bat  (None, 128)               512       \n",
      " chNormalization)                                                \n",
      "                                                                 \n",
      " layer_normalization_42 (La  (None, 128)               256       \n",
      " yerNormalization)                                               \n",
      "                                                                 \n",
      " dense_88 (Dense)            (None, 32)                4128      \n",
      "                                                                 \n",
      " layer_normalization_43 (La  (None, 32)                64        \n",
      " yerNormalization)                                               \n",
      "                                                                 \n",
      " layer_normalization_44 (La  (None, 32)                64        \n",
      " yerNormalization)                                               \n",
      "                                                                 \n",
      " dense_89 (Dense)            (None, 32)                1056      \n",
      "                                                                 \n",
      " layer_normalization_45 (La  (None, 32)                64        \n",
      " yerNormalization)                                               \n",
      "                                                                 \n",
      " layer_normalization_46 (La  (None, 32)                64        \n",
      " yerNormalization)                                               \n",
      "                                                                 \n",
      " dense_90 (Dense)            (None, 32)                1056      \n",
      "                                                                 \n",
      " layer_normalization_47 (La  (None, 32)                64        \n",
      " yerNormalization)                                               \n",
      "                                                                 \n",
      " dense_91 (Dense)            (None, 1)                 33        \n",
      "                                                                 \n",
      "=================================================================\n",
      "Total params: 7361 (28.75 KB)\n",
      "Trainable params: 7105 (27.75 KB)\n",
      "Non-trainable params: 256 (1.00 KB)\n",
      "_________________________________________________________________\n",
      "Regression at exercise date 6\n",
      "464/464 [==============================] - 6s 12ms/step - loss: 0.0014 - r2_score: 0.7112\n",
      "3707/3707 [==============================] - 10s 3ms/step\n",
      "Model: \"sequential_21\"\n",
      "_________________________________________________________________\n",
      " Layer (type)                Output Shape              Param #   \n",
      "=================================================================\n",
      " batch_normalization_8 (Bat  (None, 128)               512       \n",
      " chNormalization)                                                \n",
      "                                                                 \n",
      " layer_normalization_48 (La  (None, 128)               256       \n",
      " yerNormalization)                                               \n",
      "                                                                 \n",
      " dense_92 (Dense)            (None, 32)                4128      \n",
      "                                                                 \n",
      " layer_normalization_49 (La  (None, 32)                64        \n",
      " yerNormalization)                                               \n",
      "                                                                 \n",
      " layer_normalization_50 (La  (None, 32)                64        \n",
      " yerNormalization)                                               \n",
      "                                                                 \n",
      " dense_93 (Dense)            (None, 32)                1056      \n",
      "                                                                 \n",
      " layer_normalization_51 (La  (None, 32)                64        \n",
      " yerNormalization)                                               \n",
      "                                                                 \n",
      " layer_normalization_52 (La  (None, 32)                64        \n",
      " yerNormalization)                                               \n",
      "                                                                 \n",
      " dense_94 (Dense)            (None, 32)                1056      \n",
      "                                                                 \n",
      " layer_normalization_53 (La  (None, 32)                64        \n",
      " yerNormalization)                                               \n",
      "                                                                 \n",
      " dense_95 (Dense)            (None, 1)                 33        \n",
      "                                                                 \n",
      "=================================================================\n",
      "Total params: 7361 (28.75 KB)\n",
      "Trainable params: 7105 (27.75 KB)\n",
      "Non-trainable params: 256 (1.00 KB)\n",
      "_________________________________________________________________\n",
      "Regression at exercise date 5\n",
      "475/475 [==============================] - 6s 13ms/step - loss: 0.0012 - r2_score: 0.7224\n",
      "3795/3795 [==============================] - 10s 3ms/step\n",
      "Model: \"sequential_22\"\n",
      "_________________________________________________________________\n",
      " Layer (type)                Output Shape              Param #   \n",
      "=================================================================\n",
      " batch_normalization_9 (Bat  (None, 128)               512       \n",
      " chNormalization)                                                \n",
      "                                                                 \n",
      " layer_normalization_54 (La  (None, 128)               256       \n",
      " yerNormalization)                                               \n",
      "                                                                 \n",
      " dense_96 (Dense)            (None, 32)                4128      \n",
      "                                                                 \n",
      " layer_normalization_55 (La  (None, 32)                64        \n",
      " yerNormalization)                                               \n",
      "                                                                 \n",
      " layer_normalization_56 (La  (None, 32)                64        \n",
      " yerNormalization)                                               \n",
      "                                                                 \n",
      " dense_97 (Dense)            (None, 32)                1056      \n",
      "                                                                 \n",
      " layer_normalization_57 (La  (None, 32)                64        \n",
      " yerNormalization)                                               \n",
      "                                                                 \n",
      " layer_normalization_58 (La  (None, 32)                64        \n",
      " yerNormalization)                                               \n",
      "                                                                 \n",
      " dense_98 (Dense)            (None, 32)                1056      \n",
      "                                                                 \n",
      " layer_normalization_59 (La  (None, 32)                64        \n",
      " yerNormalization)                                               \n",
      "                                                                 \n",
      " dense_99 (Dense)            (None, 1)                 33        \n",
      "                                                                 \n",
      "=================================================================\n",
      "Total params: 7361 (28.75 KB)\n",
      "Trainable params: 7105 (27.75 KB)\n",
      "Non-trainable params: 256 (1.00 KB)\n",
      "_________________________________________________________________\n",
      "Regression at exercise date 4\n",
      "485/485 [==============================] - 6s 12ms/step - loss: 0.0014 - r2_score: 0.5702\n",
      "3877/3877 [==============================] - 10s 3ms/step\n",
      "Model: \"sequential_23\"\n",
      "_________________________________________________________________\n",
      " Layer (type)                Output Shape              Param #   \n",
      "=================================================================\n",
      " batch_normalization_10 (Ba  (None, 128)               512       \n",
      " tchNormalization)                                               \n",
      "                                                                 \n",
      " layer_normalization_60 (La  (None, 128)               256       \n",
      " yerNormalization)                                               \n",
      "                                                                 \n",
      " dense_100 (Dense)           (None, 32)                4128      \n",
      "                                                                 \n",
      " layer_normalization_61 (La  (None, 32)                64        \n",
      " yerNormalization)                                               \n",
      "                                                                 \n",
      " layer_normalization_62 (La  (None, 32)                64        \n",
      " yerNormalization)                                               \n",
      "                                                                 \n",
      " dense_101 (Dense)           (None, 32)                1056      \n",
      "                                                                 \n",
      " layer_normalization_63 (La  (None, 32)                64        \n",
      " yerNormalization)                                               \n",
      "                                                                 \n",
      " layer_normalization_64 (La  (None, 32)                64        \n",
      " yerNormalization)                                               \n",
      "                                                                 \n",
      " dense_102 (Dense)           (None, 32)                1056      \n",
      "                                                                 \n",
      " layer_normalization_65 (La  (None, 32)                64        \n",
      " yerNormalization)                                               \n",
      "                                                                 \n",
      " dense_103 (Dense)           (None, 1)                 33        \n",
      "                                                                 \n",
      "=================================================================\n",
      "Total params: 7361 (28.75 KB)\n",
      "Trainable params: 7105 (27.75 KB)\n",
      "Non-trainable params: 256 (1.00 KB)\n",
      "_________________________________________________________________\n",
      "Regression at exercise date 3\n",
      "495/495 [==============================] - 6s 13ms/step - loss: 0.0016 - r2_score: 0.4147\n",
      "3956/3956 [==============================] - 11s 3ms/step\n",
      "Model: \"sequential_24\"\n",
      "_________________________________________________________________\n",
      " Layer (type)                Output Shape              Param #   \n",
      "=================================================================\n",
      " batch_normalization_11 (Ba  (None, 128)               512       \n",
      " tchNormalization)                                               \n",
      "                                                                 \n",
      " layer_normalization_66 (La  (None, 128)               256       \n",
      " yerNormalization)                                               \n",
      "                                                                 \n",
      " dense_104 (Dense)           (None, 32)                4128      \n",
      "                                                                 \n",
      " layer_normalization_67 (La  (None, 32)                64        \n",
      " yerNormalization)                                               \n",
      "                                                                 \n",
      " layer_normalization_68 (La  (None, 32)                64        \n",
      " yerNormalization)                                               \n",
      "                                                                 \n",
      " dense_105 (Dense)           (None, 32)                1056      \n",
      "                                                                 \n",
      " layer_normalization_69 (La  (None, 32)                64        \n",
      " yerNormalization)                                               \n",
      "                                                                 \n",
      " layer_normalization_70 (La  (None, 32)                64        \n",
      " yerNormalization)                                               \n",
      "                                                                 \n",
      " dense_106 (Dense)           (None, 32)                1056      \n",
      "                                                                 \n",
      " layer_normalization_71 (La  (None, 32)                64        \n",
      " yerNormalization)                                               \n",
      "                                                                 \n",
      " dense_107 (Dense)           (None, 1)                 33        \n",
      "                                                                 \n",
      "=================================================================\n",
      "Total params: 7361 (28.75 KB)\n",
      "Trainable params: 7105 (27.75 KB)\n",
      "Non-trainable params: 256 (1.00 KB)\n",
      "_________________________________________________________________\n",
      "Regression at exercise date 2\n",
      "504/504 [==============================] - 6s 12ms/step - loss: 0.0011 - r2_score: 0.4338\n",
      "4026/4026 [==============================] - 11s 3ms/step\n",
      "Model: \"sequential_25\"\n",
      "_________________________________________________________________\n",
      " Layer (type)                Output Shape              Param #   \n",
      "=================================================================\n",
      " batch_normalization_12 (Ba  (None, 128)               512       \n",
      " tchNormalization)                                               \n",
      "                                                                 \n",
      " layer_normalization_72 (La  (None, 128)               256       \n",
      " yerNormalization)                                               \n",
      "                                                                 \n",
      " dense_108 (Dense)           (None, 32)                4128      \n",
      "                                                                 \n",
      " layer_normalization_73 (La  (None, 32)                64        \n",
      " yerNormalization)                                               \n",
      "                                                                 \n",
      " layer_normalization_74 (La  (None, 32)                64        \n",
      " yerNormalization)                                               \n",
      "                                                                 \n",
      " dense_109 (Dense)           (None, 32)                1056      \n",
      "                                                                 \n",
      " layer_normalization_75 (La  (None, 32)                64        \n",
      " yerNormalization)                                               \n",
      "                                                                 \n",
      " layer_normalization_76 (La  (None, 32)                64        \n",
      " yerNormalization)                                               \n",
      "                                                                 \n",
      " dense_110 (Dense)           (None, 32)                1056      \n",
      "                                                                 \n",
      " layer_normalization_77 (La  (None, 32)                64        \n",
      " yerNormalization)                                               \n",
      "                                                                 \n",
      " dense_111 (Dense)           (None, 1)                 33        \n",
      "                                                                 \n",
      "=================================================================\n",
      "Total params: 7361 (28.75 KB)\n",
      "Trainable params: 7105 (27.75 KB)\n",
      "Non-trainable params: 256 (1.00 KB)\n",
      "_________________________________________________________________\n",
      "Regression at exercise date 1\n",
      "510/510 [==============================] - 6s 13ms/step - loss: 0.0013 - r2_score: 0.1929\n",
      "4076/4076 [==============================] - 11s 3ms/step\n",
      "4096/4096 [==============================] - 11s 3ms/step\n",
      "4096/4096 [==============================] - 11s 3ms/step\n",
      "4096/4096 [==============================] - 11s 3ms/step\n",
      "4096/4096 [==============================] - 11s 3ms/step\n",
      "4096/4096 [==============================] - 11s 3ms/step\n",
      "4096/4096 [==============================] - 12s 3ms/step\n",
      "4096/4096 [==============================] - 11s 3ms/step\n",
      "4096/4096 [==============================] - 11s 3ms/step\n",
      "4096/4096 [==============================] - 11s 3ms/step\n",
      "4096/4096 [==============================] - 12s 3ms/step\n",
      "4096/4096 [==============================] - 11s 3ms/step\n",
      "4096/4096 [==============================] - 11s 3ms/step\n",
      "4096/4096 [==============================] - 11s 3ms/step\n",
      "Computing kernel-based upper bound...\n",
      "Building network with parameters: I=4, q=160, d=128, activation=relu\n",
      "Building network with parameters: I=4, q=160, d=128, activation=relu\n",
      "Model: \"model_6\"\n",
      "__________________________________________________________________________________________________\n",
      " Layer (type)                Output Shape                 Param #   Connected to                  \n",
      "==================================================================================================\n",
      " sig (InputLayer)            [(None, 15, 128)]            0         []                            \n",
      "                                                                                                  \n",
      " batch_normalization_14 (Ba  (None, 15, 128)              512       ['sig[0][0]']                 \n",
      " tchNormalization)                                                                                \n",
      "                                                                                                  \n",
      " dense_117 (Dense)           (None, 15, 160)              20640     ['batch_normalization_14[0][0]\n",
      "                                                                    ']                            \n",
      "                                                                                                  \n",
      " layer_normalization_84 (La  (None, 15, 160)              320       ['dense_117[0][0]']           \n",
      " yerNormalization)                                                                                \n",
      "                                                                                                  \n",
      " dense_118 (Dense)           (None, 15, 160)              25760     ['layer_normalization_84[0][0]\n",
      "                                                                    ']                            \n",
      "                                                                                                  \n",
      " layer_normalization_85 (La  (None, 15, 160)              320       ['dense_118[0][0]']           \n",
      " yerNormalization)                                                                                \n",
      "                                                                                                  \n",
      " dropout_3 (Dropout)         (None, 15, 160)              0         ['layer_normalization_85[0][0]\n",
      "                                                                    ']                            \n",
      "                                                                                                  \n",
      " layer_normalization_86 (La  (None, 15, 160)              320       ['dropout_3[0][0]']           \n",
      " yerNormalization)                                                                                \n",
      "                                                                                                  \n",
      " dense_119 (Dense)           (None, 15, 160)              25760     ['layer_normalization_86[0][0]\n",
      "                                                                    ']                            \n",
      "                                                                                                  \n",
      " layer_normalization_87 (La  (None, 15, 160)              320       ['dense_119[0][0]']           \n",
      " yerNormalization)                                                                                \n",
      "                                                                                                  \n",
      " dropout_4 (Dropout)         (None, 15, 160)              0         ['layer_normalization_87[0][0]\n",
      "                                                                    ']                            \n",
      "                                                                                                  \n",
      " layer_normalization_88 (La  (None, 15, 160)              320       ['dropout_4[0][0]']           \n",
      " yerNormalization)                                                                                \n",
      "                                                                                                  \n",
      " dense_120 (Dense)           (None, 15, 160)              25760     ['layer_normalization_88[0][0]\n",
      "                                                                    ']                            \n",
      "                                                                                                  \n",
      " layer_normalization_89 (La  (None, 15, 160)              320       ['dense_120[0][0]']           \n",
      " yerNormalization)                                                                                \n",
      "                                                                                                  \n",
      " dropout_5 (Dropout)         (None, 15, 160)              0         ['layer_normalization_89[0][0]\n",
      "                                                                    ']                            \n",
      "                                                                                                  \n",
      " dense_121 (Dense)           (None, 15, 1)                161       ['dropout_5[0][0]']           \n",
      "                                                                                                  \n",
      " flatten_3 (Flatten)         (None, 15)                   0         ['dense_121[0][0]']           \n",
      "                                                                                                  \n",
      " tf.__operators__.getitem_5  (None, 14)                   0         ['flatten_3[0][0]']           \n",
      "  (SlicingOpLambda)                                                                               \n",
      "                                                                                                  \n",
      " dW (InputLayer)             [(None, 14)]                 0         []                            \n",
      "                                                                                                  \n",
      " deep_martingales_3 (DeepMa  (None, 14)                   0         ['tf.__operators__.getitem_5[0\n",
      " rtingales)                                                         ][0]',                        \n",
      "                                                                     'dW[0][0]']                  \n",
      "                                                                                                  \n",
      " Y (InputLayer)              [(None, 14)]                 0         []                            \n",
      "                                                                                                  \n",
      " tf.__operators__.getitem_6  (None, 14)                   0         ['deep_martingales_3[0][0]']  \n",
      "  (SlicingOpLambda)                                                                               \n",
      "                                                                                                  \n",
      " tf.__operators__.getitem_7  (None, 14)                   0         ['Y[0][0]']                   \n",
      "  (SlicingOpLambda)                                                                               \n",
      "                                                                                                  \n",
      " dual_stopping_loss_3 (Dual  ()                           0         ['tf.__operators__.getitem_6[0\n",
      " StoppingLoss)                                                      ][0]',                        \n",
      "                                                                     'tf.__operators__.getitem_7[0\n",
      "                                                                    ][0]']                        \n",
      "                                                                                                  \n",
      "==================================================================================================\n",
      "Total params: 100513 (392.63 KB)\n",
      "Trainable params: 100257 (391.63 KB)\n",
      "Non-trainable params: 256 (1.00 KB)\n",
      "__________________________________________________________________________________________________\n",
      "Epoch 1/15\n",
      "461/461 [==============================] - 39s 84ms/step - loss: 0.5695 - val_loss: 0.3362\n",
      "Epoch 2/15\n",
      "461/461 [==============================] - 39s 84ms/step - loss: 0.2211 - val_loss: 0.1378\n",
      "Epoch 3/15\n",
      "461/461 [==============================] - 40s 86ms/step - loss: 0.1050 - val_loss: 0.0822\n",
      "Epoch 4/15\n",
      "461/461 [==============================] - 38s 83ms/step - loss: 0.0757 - val_loss: 0.0707\n",
      "Epoch 5/15\n",
      "461/461 [==============================] - 34s 75ms/step - loss: 0.0697 - val_loss: 0.0684\n",
      "Epoch 6/15\n",
      "461/461 [==============================] - 37s 79ms/step - loss: 0.0687 - val_loss: 0.0678\n",
      "Epoch 7/15\n",
      "461/461 [==============================] - 35s 75ms/step - loss: 0.0684 - val_loss: 0.0679\n",
      "Epoch 8/15\n",
      "461/461 [==============================] - 34s 74ms/step - loss: 0.0684 - val_loss: 0.0680\n",
      "Epoch 9/15\n",
      "461/461 [==============================] - 34s 74ms/step - loss: 0.0683 - val_loss: 0.0678\n",
      "Epoch 10/15\n",
      "461/461 [==============================] - 36s 77ms/step - loss: 0.0683 - val_loss: 0.0676\n",
      "Epoch 11/15\n",
      "461/461 [==============================] - 35s 76ms/step - loss: 0.0682 - val_loss: 0.0677\n",
      "Epoch 12/15\n",
      "461/461 [==============================] - 35s 76ms/step - loss: 0.0683 - val_loss: 0.0677\n",
      "Epoch 13/15\n",
      "461/461 [==============================] - 34s 74ms/step - loss: 0.0682 - val_loss: 0.0676\n",
      "Epoch 14/15\n",
      "461/461 [==============================] - 33s 71ms/step - loss: 0.0681 - val_loss: 0.0677\n",
      "Epoch 15/15\n",
      "461/461 [==============================] - 33s 71ms/step - loss: 0.0682 - val_loss: 0.0677\n",
      "4096/4096 [==============================] - 27s 7ms/step\n",
      "4096/4096 [==============================] - 25s 6ms/step\n",
      "Deep Kernel Longstaff-Schwartz lower bound: 0.05085179186152318 ± 5.9909287707761646e-05\n",
      "Deep Kernel Dual upper bound: 0.0670540232458464 ± 5.1701906437363074e-05\n",
      "Kernel-based pricing interval: [0.05085179186152318, 0.0670540232458464] ± 5.9909287707761646e-05\n"
     ]
    }
   ],
   "source": [
    "# Cell 2: Calculate and use RFF features for pricing with corrected implementation\n",
    "\n",
    "# Calculate both sets of features\n",
    "rff_dim = 64\n",
    "print(\"Computing kernel features for lower bound...\")\n",
    "kernel_training = compute_rff_kernel_features(log_signatures_training, N1, rff_dim=rff_dim)\n",
    "kernel_testing = compute_rff_kernel_features(log_signatures_testing, N1, rff_dim=rff_dim)\n",
    "\n",
    "# IMPORTANT: For the dual approach, we need to generate features for N1 steps\n",
    "print(\"Computing kernel features for upper bound...\")\n",
    "kernel_training_dual = compute_rff_kernel_features_dual(log_signatures_training, N1, N1, rff_dim=rff_dim)\n",
    "kernel_testing_dual = compute_rff_kernel_features_dual(log_signatures_testing, N1, N1, rff_dim=rff_dim)\n",
    "print(\"Initializing kernel-based lower bound...\")\n",
    "# 1. LOWER BOUND calculation - this works correctly\n",
    "kernel_pricer = DeepKernelLongstaffSchwartzPricer(\n",
    "    N1=N1,\n",
    "    T=T_years,\n",
    "    r=r,\n",
    "    L=rff_dim*2,\n",
    "    mode=\"American Option\",\n",
    "    layers=3,\n",
    "    nodes=32,\n",
    "    activation_function='relu',\n",
    "    batch_normalization=True,\n",
    "    regularizer=0.001,\n",
    "    dropout=False,\n",
    "    layer_normalization=True\n",
    ")\n",
    "\n",
    "print(\"Computing kernel-based lower bound...\")\n",
    "lower_bound_kernel, lower_bound_kernel_std, kernel_models = kernel_pricer.price(\n",
    "    kernel_training,\n",
    "    kernel_testing,\n",
    "    Payoff_training,\n",
    "    Payoff_testing,\n",
    "    batch=2**8,\n",
    "    epochs=15,\n",
    "    learning_rate=0.0005\n",
    ")\n",
    "\n",
    "# 2. UPPER BOUND calculation - use direct payoff, no need to expand\n",
    "print(\"Initializing kernel-based upper bound...\")\n",
    "kernel_dual_pricer = DeepKernelDualPricer(\n",
    "    N1=N1,\n",
    "    N=N1,  # Using N1 instead of N=252 here is the key change\n",
    "    T=T_years,\n",
    "    r=r,\n",
    "    layers=4,\n",
    "    nodes=32,\n",
    "    activation_function='relu',\n",
    "    batch_normalization=True,\n",
    "    regularizer=0.001,\n",
    "    dropout=True,\n",
    "    attention_layer=False,\n",
    "    layer_normalization=True,\n",
    "    mode_dim=\"1-dim\"\n",
    ")\n",
    "print(\"Computing kernel-based upper bound...\")\n",
    "try:\n",
    "    y0_kernel, upper_bound_kernel, upper_bound_kernel_std, kernel_model, kernel_rule_model = kernel_dual_pricer.price(\n",
    "        kernel_training_dual,\n",
    "        Payoff_training,\n",
    "        dW_training[:,:,0],\n",
    "        kernel_testing_dual,\n",
    "        Payoff_testing,      \n",
    "        dW_testing[:,:,0],\n",
    "        M_val=int(0.9*M),\n",
    "        batch=2**8,\n",
    "        epochs=15,\n",
    "        learning_rate=0.0005\n",
    "    )\n",
    "    \n",
    "    # Report results\n",
    "    print(f\"Deep Kernel Longstaff-Schwartz lower bound: {lower_bound_kernel} ± {lower_bound_kernel_std/np.sqrt(M2)}\")\n",
    "    print(f\"Deep Kernel Dual upper bound: {upper_bound_kernel} ± {upper_bound_kernel_std/np.sqrt(M2)}\")\n",
    "    print(f\"Kernel-based pricing interval: [{lower_bound_kernel}, {upper_bound_kernel}] ± {np.maximum(upper_bound_kernel_std, lower_bound_kernel_std)/np.sqrt(M2)}\")\n",
    "except Exception as e:\n",
    "    print(f\"Error in dual pricer: {e}\")\n",
    "    print(f\"Deep Kernel Longstaff-Schwartz lower bound: {lower_bound_kernel} ± {lower_bound_kernel_std/np.sqrt(M2)}\")\n",
    "    print(\"Upper bound calculation failed - using only lower bound\")"
   ]
  },
  {
   "cell_type": "markdown",
   "id": "a2K5Yrl-ejcN",
   "metadata": {
    "id": "a2K5Yrl-ejcN"
   },
   "source": [
    "We once again stress that the parameters for the the discretization (here $J=120$), the sample size (here $M=10^{15}$), and the signature trunaction level (here $K=3$) are not choosen big enough to get narrow gaps, but we can still already observe an improvement."
   ]
  },
  {
   "cell_type": "markdown",
   "id": "592b1b07",
   "metadata": {},
   "source": [
    "## Step 5: Contextualizing Theoretical Price in USD\n",
    "Convert the normalized model price bounds into USD per share and per contract, and print actionable trading recommendations."
   ]
  },
  {
   "cell_type": "code",
   "execution_count": 54,
   "id": "1abfbfb8",
   "metadata": {},
   "outputs": [
    {
     "data": {
      "text/html": [
       "<table border=\"1\" class=\"dataframe\">\n",
       "  <thead>\n",
       "    <tr style=\"text-align: right;\">\n",
       "      <th>Method</th>\n",
       "      <th>Lower Bound (USD)</th>\n",
       "      <th>Upper Bound (USD)</th>\n",
       "      <th>Std Error (USD)</th>\n",
       "      <th>Price Gap (USD)</th>\n",
       "      <th>Gap (%)</th>\n",
       "    </tr>\n",
       "  </thead>\n",
       "  <tbody>\n",
       "    <tr>\n",
       "      <td>Linear Signature</td>\n",
       "      <td>$5.36</td>\n",
       "      <td>$6.72</td>\n",
       "      <td>$0.01</td>\n",
       "      <td>$1.36</td>\n",
       "      <td>25.29%</td>\n",
       "    </tr>\n",
       "    <tr>\n",
       "      <td>Extended Linear Signature</td>\n",
       "      <td>$5.36</td>\n",
       "      <td>$6.69</td>\n",
       "      <td>$0.01</td>\n",
       "      <td>$1.32</td>\n",
       "      <td>24.64%</td>\n",
       "    </tr>\n",
       "    <tr>\n",
       "      <td>Deep Log-Signature</td>\n",
       "      <td>$5.01</td>\n",
       "      <td>$7.15</td>\n",
       "      <td>$0.01</td>\n",
       "      <td>$2.14</td>\n",
       "      <td>42.85%</td>\n",
       "    </tr>\n",
       "    <tr>\n",
       "      <td>Deep Kernel Method</td>\n",
       "      <td>$5.09</td>\n",
       "      <td>$6.71</td>\n",
       "      <td>$0.01</td>\n",
       "      <td>$1.62</td>\n",
       "      <td>31.86%</td>\n",
       "    </tr>\n",
       "  </tbody>\n",
       "</table>"
      ],
      "text/plain": [
       "<IPython.core.display.HTML object>"
      ]
     },
     "metadata": {},
     "output_type": "display_data"
    }
   ],
   "source": [
    "# Convert the normalized price bounds to actual USD values\n",
    "actual_stock_price = X0 * 100  # USD per share\n",
    "actual_strike = strike * actual_stock_price  # USD per share\n",
    "\n",
    "# Include all four methods in the list\n",
    "methods = [\n",
    "    \"Linear Signature\", \n",
    "    \"Extended Linear Signature\", \n",
    "    \"Deep Log-Signature\",\n",
    "    \"Deep Kernel Method\"  # Added the kernel method\n",
    "]\n",
    "\n",
    "# Collect all price bounds\n",
    "lower_bounds = [lower_bound, lower_bound_extended, lower_bound_deep, lower_bound_kernel]\n",
    "upper_bounds = [upper_bound, upper_bound_extended, upper_bound_deep, upper_bound_kernel]\n",
    "stds = [lower_bound_std, lower_bound_extended_std, lower_bound_deep_std, lower_bound_kernel_std]\n",
    "\n",
    "# Create a table of results\n",
    "import pandas as pd\n",
    "from IPython.display import display, HTML\n",
    "\n",
    "results = []\n",
    "for i, method in enumerate(methods):\n",
    "    usd_lower = float(lower_bounds[i]) * actual_stock_price\n",
    "    \n",
    "    # Handle the case where upper bound might not be available for kernel method\n",
    "    if i == 3 and 'upper_bound_kernel' not in locals():\n",
    "        usd_upper = float('nan')  # Use NaN if upper bound isn't available\n",
    "    else:\n",
    "        usd_upper = float(upper_bounds[i]) * actual_stock_price\n",
    "    \n",
    "    usd_std = float(stds[i]) * actual_stock_price / np.sqrt(M2)\n",
    "    \n",
    "    # Calculate gap only if upper bound exists\n",
    "    if not np.isnan(usd_upper):\n",
    "        gap = usd_upper - usd_lower\n",
    "        gap_percent = gap / usd_lower * 100\n",
    "    else:\n",
    "        gap = float('nan')\n",
    "        gap_percent = float('nan')\n",
    "    \n",
    "    results.append({\n",
    "        \"Method\": method,\n",
    "        \"Lower Bound (USD)\": f\"${usd_lower:.2f}\",\n",
    "        \"Upper Bound (USD)\": f\"${usd_upper:.2f}\" if not np.isnan(usd_upper) else \"N/A\",\n",
    "        \"Std Error (USD)\": f\"${usd_std:.2f}\",\n",
    "        \"Price Gap (USD)\": f\"${gap:.2f}\" if not np.isnan(gap) else \"N/A\",\n",
    "        \"Gap (%)\": f\"{gap_percent:.2f}%\" if not np.isnan(gap_percent) else \"N/A\"\n",
    "    })\n",
    "\n",
    "results_df = pd.DataFrame(results)\n",
    "display(HTML(results_df.to_html(index=False)))"
   ]
  },
  {
   "cell_type": "markdown",
   "id": "617b75c6",
   "metadata": {},
   "source": [
    "## Option Trading Interpretation\n",
    "\n",
    "Now let's interpret these results from a trading perspective. We'll evaluate the fair price range for an American put option contract (which typically represents 100 shares)."
   ]
  },
  {
   "cell_type": "code",
   "execution_count": 55,
   "id": "403373a8",
   "metadata": {},
   "outputs": [
    {
     "name": "stdout",
     "output_type": "stream",
     "text": [
      "American Put Option Contract Analysis (for 100 shares)\n",
      "=====================================================================\n",
      "Stock Price: $100.00\n",
      "Strike Price: $105.00\n",
      "Time to Maturity: 14 years\n",
      "Interest Rate: 5.00%\n",
      "Rough Volatility Parameters: H=0.07, η=1.9, ρ=-0.9, ξ₀=0.09\n",
      "=====================================================================\n",
      "Fair Price Range: $5.01 to $7.15 per contract\n",
      "Midpoint Price: $6.08\n",
      "=====================================================================\n",
      "Trading Recommendations:\n",
      "\n",
      "If market price is $4.00 (Below Fair Value):\n",
      "→ BUY: Market price is below fair value range\n",
      "→ Expected edge: $1.00 to $3.15 per contract\n",
      "→ Consider buying puts for protection or speculative profit\n",
      "\n",
      "If market price is $6.08 (At Fair Value):\n",
      "→ NEUTRAL: Market price is within fair value range\n",
      "→ Price is positioned 50% through the fair value range\n",
      "→ No clear edge for buying or selling\n",
      "\n",
      "If market price is $8.58 (Above Fair Value):\n",
      "→ SELL: Market price is above fair value range\n",
      "→ Expected edge: $1.43 to $3.58 per contract\n",
      "→ Consider writing puts, potentially as part of a spread strategy to limit risk\n"
     ]
    }
   ],
   "source": [
    "# Now we can calculate the fair price range for a standard options contract\n",
    "# Cell under “# For a standard options contract (100 shares)”\n",
    "shares_per_contract = 100\n",
    "contract_lower   = float(lower_bound_deep) * actual_stock_price\n",
    "contract_upper   = float(upper_bound_deep) * actual_stock_price\n",
    "contract_midpoint = (contract_lower + contract_upper) / 2\n",
    "\n",
    "print(f\"American Put Option Contract Analysis (for {shares_per_contract} shares)\")\n",
    "print(f\"=====================================================================\")\n",
    "print(f\"Stock Price: ${actual_stock_price:.2f}\")\n",
    "print(f\"Strike Price: ${actual_strike:.2f}\")\n",
    "print(f\"Time to Maturity: {T} days\")\n",
    "print(f\"Interest Rate: {r*100:.2f}%\")\n",
    "print(f\"Rough Volatility Parameters: H={H}, η={eta}, ρ={rho}, ξ₀={xi}\")\n",
    "print(f\"=====================================================================\")\n",
    "print(f\"Fair Price Range: ${contract_lower:.2f} to ${contract_upper:.2f} per contract\")\n",
    "print(f\"Midpoint Price: ${contract_midpoint:.2f}\")\n",
    "print(f\"=====================================================================\")\n",
    "\n",
    "# Trading recommendations based on market prices\n",
    "hypothetical_market_prices = [contract_lower * 0.8, contract_midpoint, contract_upper * 1.2]\n",
    "labels = [\"Below Fair Value\", \"At Fair Value\", \"Above Fair Value\"]\n",
    "\n",
    "print(\"Trading Recommendations:\")\n",
    "for price, label in zip(hypothetical_market_prices, labels):\n",
    "    print(f\"\\nIf market price is ${price:.2f} ({label}):\")\n",
    "    \n",
    "    if price < contract_lower:\n",
    "        print(\"→ BUY: Market price is below fair value range\")\n",
    "        print(f\"→ Expected edge: ${(contract_lower - price):.2f} to ${(contract_upper - price):.2f} per contract\")\n",
    "        print(\"→ Consider buying puts for protection or speculative profit\")\n",
    "    elif price > contract_upper:\n",
    "        print(\"→ SELL: Market price is above fair value range\")\n",
    "        print(f\"→ Expected edge: ${price - contract_upper:.2f} to ${price - contract_lower:.2f} per contract\")\n",
    "        print(\"→ Consider writing puts, potentially as part of a spread strategy to limit risk\")\n",
    "    else:\n",
    "        print(\"→ NEUTRAL: Market price is within fair value range\")\n",
    "        position = (price - contract_lower) / (contract_upper - contract_lower)\n",
    "        print(f\"→ Price is positioned {position:.0%} through the fair value range\")\n",
    "        if position < 0.4:\n",
    "            print(\"→ Slight bias toward buying\")\n",
    "        elif position > 0.6:\n",
    "            print(\"→ Slight bias toward selling\")\n",
    "        else:\n",
    "            print(\"→ No clear edge for buying or selling\")"
   ]
  },
  {
   "cell_type": "markdown",
   "id": "3a30e089",
   "metadata": {},
   "source": [
    "## Risk Management Considerations\n",
    "\n",
    "When trading American put options in a rough volatility environment, several risk management considerations are important:"
   ]
  },
  {
   "cell_type": "code",
   "execution_count": 56,
   "id": "ab5bf077",
   "metadata": {},
   "outputs": [
    {
     "name": "stdout",
     "output_type": "stream",
     "text": [
      "Risk Management Considerations:\n",
      "=====================================================================\n",
      "Moneyness: 0.95 (5% in-the-money)\n",
      "Time Value: $0.01 per share\n",
      "Uncertainty Range: $2.14 per contract\n",
      "\n",
      "Recommended Risk Management Strategies:\n",
      "---------------------------------------------------------------------\n",
      "1. Position Sizing: Limit exposure to <5% of portfolio per trade\n",
      "2. Early Exercise Consideration: Monitor optimal stopping boundaries\n",
      "3. Hedging: Consider delta and vega hedging for larger positions\n",
      "4. Model Risk: Be aware model assumes H=0.07, may differ from market\n",
      "\n",
      "Practical Implementation:\n",
      "---------------------------------------------------------------------\n",
      "→ ATM option: Maximum gamma/vega exposure\n",
      "→ Most sensitive to changes in volatility and rough volatility parameters\n",
      "→ Actively monitor for optimal early exercise conditions near expiration\n",
      "\n",
      "Note: This model incorporates rough volatility effects (H=0.07) which\n",
      "traditional models like Black-Scholes miss. This can be particularly\n",
      "important for managing risk in volatile market conditions.\n"
     ]
    }
   ],
   "source": [
    "# Calculate additional risk metrics\n",
    "# In the “# Calculate additional risk metrics” cell\n",
    "percent_itm = max(0, (actual_strike - actual_stock_price) / actual_strike * 100)\n",
    "\n",
    "moneyness = actual_stock_price / actual_strike\n",
    "time_value = float(lower_bound_deep) * actual_stock_price - max(0, actual_strike - actual_stock_price)\n",
    "model_implied_volatility = 0.3  # This would typically be backed out from the model price\n",
    "\n",
    "print(\"Risk Management Considerations:\")\n",
    "print(\"=====================================================================\")\n",
    "print(f\"Moneyness: {moneyness:.2f} ({percent_itm:.0f}% in-the-money)\")\n",
    "print(f\"Time Value: ${time_value:.2f} per share\")\n",
    "print(f\"Uncertainty Range: ${(contract_upper - contract_lower):.2f} per contract\")\n",
    "print(\"\\nRecommended Risk Management Strategies:\")\n",
    "print(\"---------------------------------------------------------------------\")\n",
    "print(\"1. Position Sizing: Limit exposure to <5% of portfolio per trade\")\n",
    "print(\"2. Early Exercise Consideration: Monitor optimal stopping boundaries\")\n",
    "print(\"3. Hedging: Consider delta and vega hedging for larger positions\")\n",
    "print(\"4. Model Risk: Be aware model assumes H={:.2f}, may differ from market\".format(H))\n",
    "\n",
    "# Additional practical advice\n",
    "print(\"\\nPractical Implementation:\")\n",
    "print(\"---------------------------------------------------------------------\")\n",
    "if moneyness < 0.95:\n",
    "    print(\"→ Deep ITM option: Consider early exercise if dividend yield > interest rate\")\n",
    "    print(\"→ Watch for significant changes in volatility that could shift optimal exercise boundary\")\n",
    "elif moneyness > 1.05:\n",
    "    print(\"→ OTM option: Early exercise unlikely, trade like European option\")\n",
    "    print(\"→ Primary value is in insurance against downside moves\")\n",
    "else:\n",
    "    print(\"→ ATM option: Maximum gamma/vega exposure\")\n",
    "    print(\"→ Most sensitive to changes in volatility and rough volatility parameters\")\n",
    "    print(\"→ Actively monitor for optimal early exercise conditions near expiration\")\n",
    "\n",
    "print(\"\\nNote: This model incorporates rough volatility effects (H={:.2f}) which\".format(H))\n",
    "print(\"traditional models like Black-Scholes miss. This can be particularly\")\n",
    "print(\"important for managing risk in volatile market conditions.\")"
   ]
  }
 ],
 "metadata": {
  "colab": {
   "provenance": []
  },
  "kernelspec": {
   "display_name": ".venv",
   "language": "python",
   "name": "python3"
  },
  "language_info": {
   "codemirror_mode": {
    "name": "ipython",
    "version": 3
   },
   "file_extension": ".py",
   "mimetype": "text/x-python",
   "name": "python",
   "nbconvert_exporter": "python",
   "pygments_lexer": "ipython3",
   "version": "3.10.16"
  }
 },
 "nbformat": 4,
 "nbformat_minor": 5
}
